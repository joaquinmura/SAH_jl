{
 "cells": [
  {
   "cell_type": "markdown",
   "id": "3b3a25a7",
   "metadata": {},
   "source": [
    "# Test 1: Optimization of a Radiator\n",
    "\n",
    "We consider two phases of conductor materials with $\\eta$ small over a domain $(0,1)\\times(0,1)$. Let $\\chi(x)$ a characteristic (or indicator) function, and $A(x)$ the conductivity tensor for two phases, namely $0$ and $1$, each one charactirized by a diffusion tensor $A_0$ and $A_1$, respectively.\n",
    "\n",
    "For Small-Amplitude Homogenization we have $A_1 = (1+\\eta ) A_0$ and $A_n(x)=(1-\\chi_n(x))A_0+\\chi_n(x)A_1 = (1+\\eta\\chi_n(x))A_0$. Now, for a fixed $x\\in\\Omega$, if $\\eta > 0$ we get that material 1 is the best conductor and $\\theta(x) = 0  \\, \\Rightarrow \\, A(x) = A_0$. Conversely, $\\theta = 1 \\, \\Rightarrow \\,  A = A_1$, and $|A_1| > |A_0|$. When $\\eta=0.9 \\Rightarrow \\, A_1 = 1.9 A_0$.\n",
    "On the other hand, if $\\eta < 0$:  material 1 is the worst conductor. Therefore, $\\theta = 0  \\, \\Rightarrow \\,  A = A_0$, and $\\theta=1 \\, \\Rightarrow \\, A=A_1$, but $|A_1| < |A_0|$. Indeed, $A_0=1/(1+\\eta)A_1$ ($\\eta=-0.9$ implies $A_0 = 10A_1$ or $A_1 = 0.1 A_0$.)\n",
    "\n",
    "In SAH we play with the relaxation $\\chi \\rightarrow (\\theta,\\xi)$, where $0\\leq \\theta \\leq 1$ is the local proportion of material $1$ and $\\xi$ is a unitary vector pointing to the local direction of lamination."
   ]
  },
  {
   "cell_type": "markdown",
   "id": "1f4be39d",
   "metadata": {},
   "source": [
    "### Initialization \n",
    "\n",
    "Fist, we define the mesh. We are using [Gridap.jl](https://github.com/gridap/Gridap.jl) version 0.16.3 to solve the partial differential equations."
   ]
  },
  {
   "cell_type": "code",
   "execution_count": 1,
   "id": "7fdbe66e",
   "metadata": {},
   "outputs": [
    {
     "name": "stderr",
     "output_type": "stream",
     "text": [
      "WARNING: Method definition (::Main.var\"#lp1#23\"{A₀, f, g, Jf, Jg, u₁, u₀, dΓ, dΩ})(Any) in module Main at E:\\GoogleDriveUC\\Research\\SAH_Julia\\sah\\sah_diffusion.jl:163 overwritten at E:\\GoogleDriveUC\\Research\\SAH_Julia\\sah\\sah_diffusion.jl:182.\n"
     ]
    },
    {
     "data": {
      "text/plain": [
       "get_∇J (generic function with 1 method)"
      ]
     },
     "execution_count": 1,
     "metadata": {},
     "output_type": "execute_result"
    }
   ],
   "source": [
    "using Gridap\n",
    "\n",
    "# First version: no modules yet\n",
    "include(\"../sah/sah_diffusion.jl\")"
   ]
  },
  {
   "cell_type": "markdown",
   "id": "b148284d",
   "metadata": {},
   "source": [
    "We set the geometry"
   ]
  },
  {
   "cell_type": "code",
   "execution_count": 4,
   "id": "dada7a1a",
   "metadata": {},
   "outputs": [],
   "source": [
    "# Generate the domain\n",
    "n=100 #60 .. #! 100 ok but 110 stop at iter=3!!!! why?\n",
    "domain = (0,1,0,1)\n",
    "partition = (n,n)\n",
    "geomodel = CartesianDiscreteModel(domain,partition)\n",
    "\n",
    "labels = get_face_labeling(geomodel)\n",
    "add_tag_from_tags!(labels,\"dir1\",[3,4,6]) # top\n",
    "add_tag_from_tags!(labels,\"dir0\",[1,2,5,7,8]) # sides and bottom\n",
    "\n",
    "# Triangulation from geometrical model\n",
    "Ω = Triangulation(geomodel)\n",
    "degree = 2\n",
    "dΩ = Measure(Ω,degree);"
   ]
  },
  {
   "cell_type": "markdown",
   "id": "80685f8f",
   "metadata": {},
   "source": [
    "and physical parameters"
   ]
  },
  {
   "cell_type": "code",
   "execution_count": 5,
   "id": "20a9f361",
   "metadata": {},
   "outputs": [],
   "source": [
    "# Physical parameters\n",
    "K₀ = 1000*TensorValue(1.0,0.0,0.0,1.0)\n",
    "\n",
    "vol = 0.5  # volume fraction of material 1 (better conductor if η>0, worst otherwise)\n",
    "eta = -0.5 #0.1 # contrast factor (between -1 and 1)\n",
    "theta = vol*ones(num_cells(Ω)); # rand(num_cells(Ω))"
   ]
  },
  {
   "cell_type": "markdown",
   "id": "a0ba61cf",
   "metadata": {},
   "source": [
    "We are going to constraint the volume of material 1 to the value given by `vol`, so we need to track that quantity:"
   ]
  },
  {
   "cell_type": "code",
   "execution_count": 7,
   "id": "d3f6c714",
   "metadata": {},
   "outputs": [
    {
     "name": "stdout",
     "output_type": "stream",
     "text": [
      "Area(θ)=0.4999999999999531  area_equi=0.5\n"
     ]
    }
   ],
   "source": [
    "area = sum(∫(theta)dΩ)\n",
    "println(\"Area(θ)=\",area,\"  area_equi=\",sum(theta)/n^2) # coincide if dx=dy"
   ]
  },
  {
   "cell_type": "markdown",
   "id": "0088eca9",
   "metadata": {},
   "source": [
    "### Setting boundary conditions"
   ]
  },
  {
   "cell_type": "code",
   "execution_count": 8,
   "id": "40de71f4",
   "metadata": {},
   "outputs": [
    {
     "data": {
      "text/plain": [
       "g (generic function with 1 method)"
      ]
     },
     "execution_count": 8,
     "metadata": {},
     "output_type": "execute_result"
    }
   ],
   "source": [
    "# test 1\n",
    "f(x) = 1.0 \n",
    "g(x) = 0.0 # not used in this example"
   ]
  },
  {
   "cell_type": "markdown",
   "id": "b3a5293f",
   "metadata": {},
   "source": [
    "### Declaration of objective functions\n",
    "\n",
    "We call `Jf(u,f)` for volumetric objective function and `Jg(u,f)` for surface objective function."
   ]
  },
  {
   "cell_type": "code",
   "execution_count": 9,
   "id": "e7711ece",
   "metadata": {},
   "outputs": [
    {
     "data": {
      "text/plain": [
       "false"
      ]
     },
     "execution_count": 9,
     "metadata": {},
     "output_type": "execute_result"
    }
   ],
   "source": [
    "# Compliance\n",
    "j1(u,f)= f⋅u  # compliance *maximization* with '-'\n",
    "dj1(u,f)= f\n",
    "ddj1(u,f)=0.0\n",
    "j2(u,f)=0.0  # not used here\n",
    "dj2(u,f)=0.0\n",
    "ddj2(u,f)=0.0\n",
    "\n",
    "# This is autoadjoint: Saves computational time, do not change the solution.\n",
    "autoadj = true\n",
    "\n",
    "# To play with microstructural term: to include it or not\n",
    "micro_ = false"
   ]
  },
  {
   "cell_type": "code",
   "execution_count": 10,
   "id": "7ceb9098",
   "metadata": {},
   "outputs": [
    {
     "data": {
      "text/plain": [
       "3-element Vector{Function}:\n",
       " j2 (generic function with 1 method)\n",
       " dj2 (generic function with 1 method)\n",
       " ddj2 (generic function with 1 method)"
      ]
     },
     "execution_count": 10,
     "metadata": {},
     "output_type": "execute_result"
    }
   ],
   "source": [
    "Jf = [j1,dj1,ddj1]\n",
    "Jg = [j2,dj2,ddj2]"
   ]
  },
  {
   "cell_type": "markdown",
   "id": "c3b0de56",
   "metadata": {},
   "source": [
    "### Perform the optimization steps\n"
   ]
  },
  {
   "cell_type": "code",
   "execution_count": 11,
   "id": "f26450dd",
   "metadata": {},
   "outputs": [
    {
     "name": "stdout",
     "output_type": "stream",
     "text": [
      " --- SAH Diffusion problem ---\n",
      " * Mesh setting\n",
      " * Initial step\n",
      "  Note: Using 'is_autoadjoint = true'\n",
      " - Warning: No microstructure here\n",
      " solution saved in out\\SAHdiff_0000.vtu ...done.\n",
      "\n",
      "===== iter 1/100  =====\n",
      " > vol.fit: num.iter=0/200 | err.rel=0.97985 | Λ=-0.35300 | Λ(min,max)=(0.01000,-0.35300)\n",
      " volume = 0.5008 || Obj.Func: old=1.000000e+10, new=2.985041e-05\n",
      " solution saved in out\\SAHdiff_0001.vtu ...done.\n",
      " Gradient Descent: |dJ|_2 = 0.001908254328668311\n",
      "\n",
      "===== iter 2/100  =====\n",
      " > vol.fit: num.iter=200/200 | err.rel=0.03383 | Λ=-0.26851 | Λ(min,max)=(-0.26851,-0.26851)\n",
      " volume = 0.5011 || Obj.Func: old=2.985041e-05, new=2.983916e-05\n",
      " solution saved in out\\SAHdiff_0002.vtu ...done.\n",
      " Gradient Descent: |dJ|_2 = 0.0019132566931020834\n",
      "\n",
      "===== iter 3/100  =====\n",
      " > vol.fit: num.iter=0/200 | err.rel=0.16331 | Λ=-0.36000 | Λ(min,max)=(0.01000,-0.36000)\n",
      " volume = 0.5006 || Obj.Func: old=2.983916e-05, new=2.970568e-05\n",
      " solution saved in out\\SAHdiff_0003.vtu ...done.\n",
      " Gradient Descent: |dJ|_2 = 0.0019288628251100356\n",
      "\n",
      "===== iter 4/100  =====\n",
      " > vol.fit: num.iter=0/200 | err.rel=0.16106 | Λ=-0.38400 | Λ(min,max)=(0.01000,-0.38400)\n",
      " volume = 0.5002 || Obj.Func: old=2.970568e-05, new=2.957237e-05\n",
      " solution saved in out\\SAHdiff_0004.vtu ...done.\n",
      " Gradient Descent: |dJ|_2 = 0.0019414826953244538\n",
      "\n",
      "===== iter 5/100  =====\n",
      " > vol.fit: num.iter=0/200 | err.rel=0.10554 | Λ=-0.37600 | Λ(min,max)=(0.01000,-0.37600)\n",
      " volume = 0.5001 || Obj.Func: old=2.957237e-05, new=2.952738e-05\n",
      " solution saved in out\\SAHdiff_0005.vtu ...done.\n",
      " Gradient Descent: |dJ|_2 = 0.0019445679697791807\n",
      "\n",
      "===== iter 6/100  =====\n",
      " > vol.fit: num.iter=0/200 | err.rel=0.08465 | Λ=-0.38100 | Λ(min,max)=(0.01000,-0.38100)\n",
      " volume = 0.5000 || Obj.Func: old=2.952738e-05, new=2.949669e-05\n",
      " solution saved in out\\SAHdiff_0006.vtu ...done.\n",
      " Gradient Descent: |dJ|_2 = 0.0019473170348294619\n",
      "\n",
      "===== iter 7/100  =====\n",
      " > vol.fit: num.iter=0/200 | err.rel=0.07443 | Λ=-0.39600 | Λ(min,max)=(0.01000,-0.39600)\n",
      " volume = 0.5001 || Obj.Func: old=2.949669e-05, new=2.946688e-05\n",
      " solution saved in out\\SAHdiff_0007.vtu ...done.\n",
      " Gradient Descent: |dJ|_2 = 0.0019491758338053171\n",
      "\n",
      "===== iter 8/100  =====\n",
      " > vol.fit: num.iter=0/200 | err.rel=0.06965 | Λ=-0.38400 | Λ(min,max)=(0.01000,-0.38400)\n",
      " volume = 0.5001 || Obj.Func: old=2.946688e-05, new=2.944139e-05\n",
      " solution saved in out\\SAHdiff_0008.vtu ...done.\n",
      " Gradient Descent: |dJ|_2 = 0.001950704796594401\n",
      "\n",
      "===== iter 9/100  =====\n",
      " > vol.fit: num.iter=0/200 | err.rel=0.06181 | Λ=-0.43500 | Λ(min,max)=(0.01000,-0.43500)\n",
      " volume = 0.5000 || Obj.Func: old=2.944139e-05, new=2.941773e-05\n",
      " solution saved in out\\SAHdiff_0009.vtu ...done.\n",
      " Gradient Descent: |dJ|_2 = 0.0019524871413688504\n",
      "\n",
      "===== iter 10/100  =====\n",
      " > vol.fit: num.iter=0/200 | err.rel=0.05957 | Λ=-0.41800 | Λ(min,max)=(0.01000,-0.41800)\n",
      " volume = 0.5000 || Obj.Func: old=2.941773e-05, new=2.940227e-05\n",
      " solution saved in out\\SAHdiff_0010.vtu ...done.\n",
      " Gradient Descent: |dJ|_2 = 0.0019541845496440983\n",
      "\n",
      "===== iter 11/100  =====\n",
      " > vol.fit: num.iter=0/200 | err.rel=0.05077 | Λ=-0.41200 | Λ(min,max)=(0.01000,-0.41200)\n",
      " volume = 0.5001 || Obj.Func: old=2.940227e-05, new=2.938631e-05\n",
      " solution saved in out\\SAHdiff_0011.vtu ...done.\n",
      " Gradient Descent: |dJ|_2 = 0.0019556865409272248\n",
      "\n",
      "===== iter 12/100  =====\n",
      " > vol.fit: num.iter=0/200 | err.rel=0.05384 | Λ=-0.44100 | Λ(min,max)=(0.01000,-0.44100)\n",
      " volume = 0.5000 || Obj.Func: old=2.938631e-05, new=2.937225e-05\n",
      " solution saved in out\\SAHdiff_0012.vtu ...done.\n",
      " Gradient Descent: |dJ|_2 = 0.0019570418936549045\n",
      "\n",
      "===== iter 13/100  =====\n",
      " > vol.fit: num.iter=0/200 | err.rel=0.06535 | Λ=-0.45400 | Λ(min,max)=(0.01000,-0.45400)\n",
      " volume = 0.5001 || Obj.Func: old=2.937225e-05, new=2.935270e-05\n",
      " solution saved in out\\SAHdiff_0013.vtu ...done.\n",
      " Gradient Descent: |dJ|_2 = 0.001958933026490052\n",
      "\n",
      "===== iter 14/100  =====\n",
      " > vol.fit: num.iter=0/200 | err.rel=0.06192 | Λ=-0.50000 | Λ(min,max)=(0.01000,-0.50000)\n",
      " volume = 0.5000 || Obj.Func: old=2.935270e-05, new=2.933436e-05\n",
      " solution saved in out\\SAHdiff_0014.vtu ...done.\n",
      " Gradient Descent: |dJ|_2 = 0.00196084554081641\n",
      "\n",
      "===== iter 15/100  =====\n",
      " > vol.fit: num.iter=0/200 | err.rel=0.05391 | Λ=-0.48700 | Λ(min,max)=(0.01000,-0.48700)\n",
      " volume = 0.5000 || Obj.Func: old=2.933436e-05, new=2.931831e-05\n",
      " solution saved in out\\SAHdiff_0015.vtu ...done.\n",
      " Gradient Descent: |dJ|_2 = 0.001962451726127667\n",
      "\n",
      "===== iter 16/100  =====\n",
      " > vol.fit: num.iter=0/200 | err.rel=0.04912 | Λ=-0.49800 | Λ(min,max)=(0.01000,-0.49800)\n",
      " volume = 0.5000 || Obj.Func: old=2.931831e-05, new=2.930730e-05\n",
      " solution saved in out\\SAHdiff_0016.vtu ...done.\n",
      " Gradient Descent: |dJ|_2 = 0.001964059984013446\n",
      "\n",
      "===== iter 17/100  =====\n",
      " > vol.fit: num.iter=0/200 | err.rel=0.02890 | Λ=-0.56100 | Λ(min,max)=(0.01000,-0.56100)\n",
      " volume = 0.5000 || Obj.Func: old=2.930730e-05, new=2.930357e-05\n",
      " solution saved in out\\SAHdiff_0017.vtu ...done.\n",
      " Gradient Descent: |dJ|_2 = 0.0019645397063756975\n",
      "\n",
      "===== iter 18/100  =====\n",
      " > vol.fit: num.iter=0/200 | err.rel=0.02649 | Λ=-0.55200 | Λ(min,max)=(0.01000,-0.55200)\n",
      " volume = 0.5000 || Obj.Func: old=2.930357e-05, new=2.929866e-05\n",
      " solution saved in out\\SAHdiff_0018.vtu ...done.\n",
      " Gradient Descent: |dJ|_2 = 0.0019650087884462157\n",
      "\n",
      "===== iter 19/100  =====\n",
      " > vol.fit: num.iter=0/200 | err.rel=0.03098 | Λ=-0.61600 | Λ(min,max)=(0.01000,-0.61600)\n",
      " volume = 0.5000 || Obj.Func: old=2.929866e-05, new=2.929327e-05\n",
      " solution saved in out\\SAHdiff_0019.vtu ...done.\n",
      " Gradient Descent: |dJ|_2 = 0.001965495016992367\n",
      "\n",
      "===== iter 20/100  =====\n",
      " > vol.fit: num.iter=0/200 | err.rel=0.02742 | Λ=-0.60600 | Λ(min,max)=(0.01000,-0.60600)\n",
      " volume = 0.5000 || Obj.Func: old=2.929327e-05, new=2.928939e-05\n",
      " solution saved in out\\SAHdiff_0020.vtu ...done.\n",
      " Gradient Descent: |dJ|_2 = 0.0019659887867030396\n",
      "\n",
      "===== iter 21/100  =====\n",
      " > vol.fit: num.iter=0/200 | err.rel=0.04410 | Λ=-0.68600 | Λ(min,max)=(0.01000,-0.68600)\n",
      " volume = 0.5000 || Obj.Func: old=2.928939e-05, new=2.928165e-05\n",
      " solution saved in out\\SAHdiff_0021.vtu ...done.\n",
      " Gradient Descent: |dJ|_2 = 0.001966881378753888\n",
      "\n",
      "===== iter 22/100  =====\n",
      " > vol.fit: num.iter=0/200 | err.rel=0.03267 | Λ=-0.73100 | Λ(min,max)=(0.01000,-0.73100)\n",
      " volume = 0.5000 || Obj.Func: old=2.928165e-05, new=2.927639e-05\n",
      " solution saved in out\\SAHdiff_0022.vtu ...done.\n",
      " Gradient Descent: |dJ|_2 = 0.001967568126424819\n",
      "\n",
      "===== iter 23/100  =====\n",
      " > vol.fit: num.iter=0/200 | err.rel=0.02726 | Λ=-0.69000 | Λ(min,max)=(0.01000,-0.69000)\n",
      " volume = 0.5000 || Obj.Func: old=2.927639e-05, new=2.927065e-05\n",
      " solution saved in out\\SAHdiff_0023.vtu ...done.\n",
      " Gradient Descent: |dJ|_2 = 0.0019680835005999498\n",
      "\n",
      "===== iter 24/100  =====\n",
      " > vol.fit: num.iter=0/200 | err.rel=0.02934 | Λ=-0.77600 | Λ(min,max)=(0.01000,-0.77600)\n",
      " volume = 0.5000 || Obj.Func: old=2.927065e-05, new=2.926494e-05\n",
      " solution saved in out\\SAHdiff_0024.vtu ...done.\n",
      " Gradient Descent: |dJ|_2 = 0.001968632518146433\n",
      "\n",
      "===== iter 25/100  =====\n",
      " > vol.fit: num.iter=0/200 | err.rel=0.02780 | Λ=-0.75400 | Λ(min,max)=(0.01000,-0.75400)\n",
      " volume = 0.5000 || Obj.Func: old=2.926494e-05, new=2.925977e-05\n",
      " solution saved in out\\SAHdiff_0025.vtu ...done.\n",
      " Gradient Descent: |dJ|_2 = 0.001969178162031295\n",
      "\n",
      "===== iter 26/100  =====\n",
      " > vol.fit: num.iter=0/200 | err.rel=0.02899 | Λ=-0.85100 | Λ(min,max)=(0.01000,-0.85100)\n",
      " volume = 0.5000 || Obj.Func: old=2.925977e-05, new=2.925422e-05\n",
      " solution saved in out\\SAHdiff_0026.vtu ...done.\n",
      " Gradient Descent: |dJ|_2 = 0.001969701131898019\n",
      "\n",
      "===== iter 27/100  =====\n",
      " > vol.fit: num.iter=0/200 | err.rel=0.02329 | Λ=-0.79300 | Λ(min,max)=(0.01000,-0.79300)\n",
      " volume = 0.5000 || Obj.Func: old=2.925422e-05, new=2.924806e-05\n",
      " solution saved in out\\SAHdiff_0027.vtu ...done.\n",
      " Gradient Descent: |dJ|_2 = 0.001970155814713\n",
      "\n",
      "===== iter 28/100  =====\n",
      " > vol.fit: num.iter=0/200 | err.rel=0.02524 | Λ=-0.92400 | Λ(min,max)=(0.01000,-0.92400)\n",
      " volume = 0.5000 || Obj.Func: old=2.924806e-05, new=2.924665e-05\n",
      " solution saved in out\\SAHdiff_0028.vtu ...done.\n",
      " Gradient Descent: |dJ|_2 = 0.001970598257702039\n",
      "\n",
      "===== iter 29/100  =====\n",
      " > vol.fit: num.iter=0/200 | err.rel=0.03406 | Λ=-0.87100 | Λ(min,max)=(0.01000,-0.87100)\n",
      " volume = 0.5000 || Obj.Func: old=2.924665e-05, new=2.923694e-05\n"
     ]
    },
    {
     "name": "stdout",
     "output_type": "stream",
     "text": [
      " solution saved in out\\SAHdiff_0029.vtu ...done.\n",
      " Gradient Descent: |dJ|_2 = 0.0019713533610804025\n",
      "\n",
      "===== iter 30/100  =====\n",
      " > vol.fit: num.iter=0/200 | err.rel=0.02319 | Λ=-0.99000 | Λ(min,max)=(0.01000,-0.99000)\n",
      " volume = 0.4996 || Obj.Func: old=2.923694e-05, new=2.924055e-05\n",
      " iteration 30 not accepted: step size reduced to 154.35508482680956\n",
      "\n",
      "===== iter 31/100  =====\n",
      " > vol.fit: num.iter=0/200 | err.rel=0.00000 | Λ=-0.99000 | Λ(min,max)=(0.01000,-0.99000)\n",
      " volume = 0.4996 || Obj.Func: old=2.923694e-05, new=2.924055e-05\n",
      " iteration 31 not accepted: step size reduced to 115.76631362010717\n",
      "# STOP: No convergence found after 31 iterations: α=115.76631362010717<α_min=1.0e-5 rel.error=0.0\n"
     ]
    }
   ],
   "source": [
    "theta_opt, J, iter = solve_sah_diffusion(geomodel,([\"dir1\",\"dir0\"],\"\"),eta,K₀,theta,vol,f,g,x->0.0,\n",
    "    Jf,Jg;degree=degree,save_VTK=true,is_autoadjoint=autoadj,max_iter=100,\n",
    "    output_path=\"out\",use_microstructure=micro_,verbose=true);"
   ]
  },
  {
   "cell_type": "code",
   "execution_count": 17,
   "id": "da221b29",
   "metadata": {},
   "outputs": [
    {
     "data": {
      "image/svg+xml": [
       "<?xml version=\"1.0\" encoding=\"utf-8\"?>\n",
       "<svg xmlns=\"http://www.w3.org/2000/svg\" xmlns:xlink=\"http://www.w3.org/1999/xlink\" width=\"600\" height=\"400\" viewBox=\"0 0 2400 1600\">\n",
       "<defs>\n",
       "  <clipPath id=\"clip710\">\n",
       "    <rect x=\"0\" y=\"0\" width=\"2400\" height=\"1600\"/>\n",
       "  </clipPath>\n",
       "</defs>\n",
       "<path clip-path=\"url(#clip710)\" d=\"\n",
       "M0 1600 L2400 1600 L2400 0 L0 0  Z\n",
       "  \" fill=\"#ffffff\" fill-rule=\"evenodd\" fill-opacity=\"1\"/>\n",
       "<defs>\n",
       "  <clipPath id=\"clip711\">\n",
       "    <rect x=\"480\" y=\"0\" width=\"1681\" height=\"1600\"/>\n",
       "  </clipPath>\n",
       "</defs>\n",
       "<path clip-path=\"url(#clip710)\" d=\"\n",
       "M365.467 1486.45 L2352.76 1486.45 L2352.76 123.472 L365.467 123.472  Z\n",
       "  \" fill=\"#ffffff\" fill-rule=\"evenodd\" fill-opacity=\"1\"/>\n",
       "<defs>\n",
       "  <clipPath id=\"clip712\">\n",
       "    <rect x=\"365\" y=\"123\" width=\"1988\" height=\"1364\"/>\n",
       "  </clipPath>\n",
       "</defs>\n",
       "<polyline clip-path=\"url(#clip712)\" style=\"stroke:#000000; stroke-linecap:butt; stroke-linejoin:round; stroke-width:2; stroke-opacity:0.1; fill:none\" points=\"\n",
       "  689.54,1486.45 689.54,123.472 \n",
       "  \"/>\n",
       "<polyline clip-path=\"url(#clip712)\" style=\"stroke:#000000; stroke-linecap:butt; stroke-linejoin:round; stroke-width:2; stroke-opacity:0.1; fill:none\" points=\"\n",
       "  1024.33,1486.45 1024.33,123.472 \n",
       "  \"/>\n",
       "<polyline clip-path=\"url(#clip712)\" style=\"stroke:#000000; stroke-linecap:butt; stroke-linejoin:round; stroke-width:2; stroke-opacity:0.1; fill:none\" points=\"\n",
       "  1359.11,1486.45 1359.11,123.472 \n",
       "  \"/>\n",
       "<polyline clip-path=\"url(#clip712)\" style=\"stroke:#000000; stroke-linecap:butt; stroke-linejoin:round; stroke-width:2; stroke-opacity:0.1; fill:none\" points=\"\n",
       "  1693.9,1486.45 1693.9,123.472 \n",
       "  \"/>\n",
       "<polyline clip-path=\"url(#clip712)\" style=\"stroke:#000000; stroke-linecap:butt; stroke-linejoin:round; stroke-width:2; stroke-opacity:0.1; fill:none\" points=\"\n",
       "  2028.68,1486.45 2028.68,123.472 \n",
       "  \"/>\n",
       "<polyline clip-path=\"url(#clip710)\" style=\"stroke:#000000; stroke-linecap:butt; stroke-linejoin:round; stroke-width:4; stroke-opacity:1; fill:none\" points=\"\n",
       "  365.467,1486.45 2352.76,1486.45 \n",
       "  \"/>\n",
       "<polyline clip-path=\"url(#clip710)\" style=\"stroke:#000000; stroke-linecap:butt; stroke-linejoin:round; stroke-width:4; stroke-opacity:1; fill:none\" points=\"\n",
       "  689.54,1486.45 689.54,1470.09 \n",
       "  \"/>\n",
       "<polyline clip-path=\"url(#clip710)\" style=\"stroke:#000000; stroke-linecap:butt; stroke-linejoin:round; stroke-width:4; stroke-opacity:1; fill:none\" points=\"\n",
       "  1024.33,1486.45 1024.33,1470.09 \n",
       "  \"/>\n",
       "<polyline clip-path=\"url(#clip710)\" style=\"stroke:#000000; stroke-linecap:butt; stroke-linejoin:round; stroke-width:4; stroke-opacity:1; fill:none\" points=\"\n",
       "  1359.11,1486.45 1359.11,1470.09 \n",
       "  \"/>\n",
       "<polyline clip-path=\"url(#clip710)\" style=\"stroke:#000000; stroke-linecap:butt; stroke-linejoin:round; stroke-width:4; stroke-opacity:1; fill:none\" points=\"\n",
       "  1693.9,1486.45 1693.9,1470.09 \n",
       "  \"/>\n",
       "<polyline clip-path=\"url(#clip710)\" style=\"stroke:#000000; stroke-linecap:butt; stroke-linejoin:round; stroke-width:4; stroke-opacity:1; fill:none\" points=\"\n",
       "  2028.68,1486.45 2028.68,1470.09 \n",
       "  \"/>\n",
       "<path clip-path=\"url(#clip710)\" d=\"M679.818 1512.56 L698.174 1512.56 L698.174 1516.5 L684.1 1516.5 L684.1 1524.97 Q685.119 1524.62 686.137 1524.46 Q687.156 1524.27 688.174 1524.27 Q693.961 1524.27 697.341 1527.44 Q700.72 1530.62 700.72 1536.03 Q700.72 1541.61 697.248 1544.71 Q693.776 1547.79 687.457 1547.79 Q685.281 1547.79 683.012 1547.42 Q680.767 1547.05 678.359 1546.31 L678.359 1541.61 Q680.443 1542.74 682.665 1543.3 Q684.887 1543.86 687.364 1543.86 Q691.369 1543.86 693.707 1541.75 Q696.044 1539.64 696.044 1536.03 Q696.044 1532.42 693.707 1530.31 Q691.369 1528.21 687.364 1528.21 Q685.489 1528.21 683.614 1528.62 Q681.762 1529.04 679.818 1529.92 L679.818 1512.56 Z\" fill=\"#000000\" fill-rule=\"evenodd\" fill-opacity=\"1\" /><path clip-path=\"url(#clip710)\" d=\"M999.013 1543.18 L1006.65 1543.18 L1006.65 1516.82 L998.342 1518.49 L998.342 1514.23 L1006.61 1512.56 L1011.28 1512.56 L1011.28 1543.18 L1018.92 1543.18 L1018.92 1547.12 L999.013 1547.12 L999.013 1543.18 Z\" fill=\"#000000\" fill-rule=\"evenodd\" fill-opacity=\"1\" /><path clip-path=\"url(#clip710)\" d=\"M1038.36 1515.64 Q1034.75 1515.64 1032.93 1519.2 Q1031.12 1522.75 1031.12 1529.87 Q1031.12 1536.98 1032.93 1540.55 Q1034.75 1544.09 1038.36 1544.09 Q1042 1544.09 1043.8 1540.55 Q1045.63 1536.98 1045.63 1529.87 Q1045.63 1522.75 1043.8 1519.2 Q1042 1515.64 1038.36 1515.64 M1038.36 1511.93 Q1044.18 1511.93 1047.23 1516.54 Q1050.31 1521.12 1050.31 1529.87 Q1050.31 1538.6 1047.23 1543.21 Q1044.18 1547.79 1038.36 1547.79 Q1032.55 1547.79 1029.48 1543.21 Q1026.42 1538.6 1026.42 1529.87 Q1026.42 1521.12 1029.48 1516.54 Q1032.55 1511.93 1038.36 1511.93 Z\" fill=\"#000000\" fill-rule=\"evenodd\" fill-opacity=\"1\" /><path clip-path=\"url(#clip710)\" d=\"M1334.3 1543.18 L1341.94 1543.18 L1341.94 1516.82 L1333.63 1518.49 L1333.63 1514.23 L1341.89 1512.56 L1346.57 1512.56 L1346.57 1543.18 L1354.2 1543.18 L1354.2 1547.12 L1334.3 1547.12 L1334.3 1543.18 Z\" fill=\"#000000\" fill-rule=\"evenodd\" fill-opacity=\"1\" /><path clip-path=\"url(#clip710)\" d=\"M1363.69 1512.56 L1382.05 1512.56 L1382.05 1516.5 L1367.98 1516.5 L1367.98 1524.97 Q1369 1524.62 1370.01 1524.46 Q1371.03 1524.27 1372.05 1524.27 Q1377.84 1524.27 1381.22 1527.44 Q1384.6 1530.62 1384.6 1536.03 Q1384.6 1541.61 1381.13 1544.71 Q1377.65 1547.79 1371.33 1547.79 Q1369.16 1547.79 1366.89 1547.42 Q1364.64 1547.05 1362.24 1546.31 L1362.24 1541.61 Q1364.32 1542.74 1366.54 1543.3 Q1368.76 1543.86 1371.24 1543.86 Q1375.25 1543.86 1377.58 1541.75 Q1379.92 1539.64 1379.92 1536.03 Q1379.92 1532.42 1377.58 1530.31 Q1375.25 1528.21 1371.24 1528.21 Q1369.37 1528.21 1367.49 1528.62 Q1365.64 1529.04 1363.69 1529.92 L1363.69 1512.56 Z\" fill=\"#000000\" fill-rule=\"evenodd\" fill-opacity=\"1\" /><path clip-path=\"url(#clip710)\" d=\"M1672.67 1543.18 L1688.99 1543.18 L1688.99 1547.12 L1667.05 1547.12 L1667.05 1543.18 Q1669.71 1540.43 1674.29 1535.8 Q1678.9 1531.15 1680.08 1529.81 Q1682.32 1527.28 1683.2 1525.55 Q1684.11 1523.79 1684.11 1522.1 Q1684.11 1519.34 1682.16 1517.61 Q1680.24 1515.87 1677.14 1515.87 Q1674.94 1515.87 1672.49 1516.63 Q1670.05 1517.4 1667.28 1518.95 L1667.28 1514.23 Q1670.1 1513.09 1672.55 1512.51 Q1675.01 1511.93 1677.05 1511.93 Q1682.42 1511.93 1685.61 1514.62 Q1688.8 1517.31 1688.8 1521.8 Q1688.8 1523.93 1687.99 1525.85 Q1687.21 1527.74 1685.1 1530.34 Q1684.52 1531.01 1681.42 1534.23 Q1678.32 1537.42 1672.67 1543.18 Z\" fill=\"#000000\" fill-rule=\"evenodd\" fill-opacity=\"1\" /><path clip-path=\"url(#clip710)\" d=\"M1708.8 1515.64 Q1705.19 1515.64 1703.36 1519.2 Q1701.56 1522.75 1701.56 1529.87 Q1701.56 1536.98 1703.36 1540.55 Q1705.19 1544.09 1708.8 1544.09 Q1712.44 1544.09 1714.24 1540.55 Q1716.07 1536.98 1716.07 1529.87 Q1716.07 1522.75 1714.24 1519.2 Q1712.44 1515.64 1708.8 1515.64 M1708.8 1511.93 Q1714.61 1511.93 1717.67 1516.54 Q1720.75 1521.12 1720.75 1529.87 Q1720.75 1538.6 1717.67 1543.21 Q1714.61 1547.79 1708.8 1547.79 Q1702.99 1547.79 1699.92 1543.21 Q1696.86 1538.6 1696.86 1529.87 Q1696.86 1521.12 1699.92 1516.54 Q1702.99 1511.93 1708.8 1511.93 Z\" fill=\"#000000\" fill-rule=\"evenodd\" fill-opacity=\"1\" /><path clip-path=\"url(#clip710)\" d=\"M2007.95 1543.18 L2024.27 1543.18 L2024.27 1547.12 L2002.33 1547.12 L2002.33 1543.18 Q2004.99 1540.43 2009.57 1535.8 Q2014.18 1531.15 2015.36 1529.81 Q2017.61 1527.28 2018.49 1525.55 Q2019.39 1523.79 2019.39 1522.1 Q2019.39 1519.34 2017.44 1517.61 Q2015.52 1515.87 2012.42 1515.87 Q2010.22 1515.87 2007.77 1516.63 Q2005.34 1517.4 2002.56 1518.95 L2002.56 1514.23 Q2005.38 1513.09 2007.84 1512.51 Q2010.29 1511.93 2012.33 1511.93 Q2017.7 1511.93 2020.89 1514.62 Q2024.09 1517.31 2024.09 1521.8 Q2024.09 1523.93 2023.28 1525.85 Q2022.49 1527.74 2020.38 1530.34 Q2019.81 1531.01 2016.7 1534.23 Q2013.6 1537.42 2007.95 1543.18 Z\" fill=\"#000000\" fill-rule=\"evenodd\" fill-opacity=\"1\" /><path clip-path=\"url(#clip710)\" d=\"M2034.13 1512.56 L2052.49 1512.56 L2052.49 1516.5 L2038.42 1516.5 L2038.42 1524.97 Q2039.44 1524.62 2040.45 1524.46 Q2041.47 1524.27 2042.49 1524.27 Q2048.28 1524.27 2051.66 1527.44 Q2055.04 1530.62 2055.04 1536.03 Q2055.04 1541.61 2051.57 1544.71 Q2048.09 1547.79 2041.77 1547.79 Q2039.6 1547.79 2037.33 1547.42 Q2035.08 1547.05 2032.68 1546.31 L2032.68 1541.61 Q2034.76 1542.74 2036.98 1543.3 Q2039.2 1543.86 2041.68 1543.86 Q2045.69 1543.86 2048.02 1541.75 Q2050.36 1539.64 2050.36 1536.03 Q2050.36 1532.42 2048.02 1530.31 Q2045.69 1528.21 2041.68 1528.21 Q2039.81 1528.21 2037.93 1528.62 Q2036.08 1529.04 2034.13 1529.92 L2034.13 1512.56 Z\" fill=\"#000000\" fill-rule=\"evenodd\" fill-opacity=\"1\" /><polyline clip-path=\"url(#clip712)\" style=\"stroke:#000000; stroke-linecap:butt; stroke-linejoin:round; stroke-width:2; stroke-opacity:0.1; fill:none\" points=\"\n",
       "  365.467,1315.7 2352.76,1315.7 \n",
       "  \"/>\n",
       "<polyline clip-path=\"url(#clip712)\" style=\"stroke:#000000; stroke-linecap:butt; stroke-linejoin:round; stroke-width:2; stroke-opacity:0.1; fill:none\" points=\"\n",
       "  365.467,1106.1 2352.76,1106.1 \n",
       "  \"/>\n",
       "<polyline clip-path=\"url(#clip712)\" style=\"stroke:#000000; stroke-linecap:butt; stroke-linejoin:round; stroke-width:2; stroke-opacity:0.1; fill:none\" points=\"\n",
       "  365.467,896.499 2352.76,896.499 \n",
       "  \"/>\n",
       "<polyline clip-path=\"url(#clip712)\" style=\"stroke:#000000; stroke-linecap:butt; stroke-linejoin:round; stroke-width:2; stroke-opacity:0.1; fill:none\" points=\"\n",
       "  365.467,686.901 2352.76,686.901 \n",
       "  \"/>\n",
       "<polyline clip-path=\"url(#clip712)\" style=\"stroke:#000000; stroke-linecap:butt; stroke-linejoin:round; stroke-width:2; stroke-opacity:0.1; fill:none\" points=\"\n",
       "  365.467,477.302 2352.76,477.302 \n",
       "  \"/>\n",
       "<polyline clip-path=\"url(#clip712)\" style=\"stroke:#000000; stroke-linecap:butt; stroke-linejoin:round; stroke-width:2; stroke-opacity:0.1; fill:none\" points=\"\n",
       "  365.467,267.703 2352.76,267.703 \n",
       "  \"/>\n",
       "<polyline clip-path=\"url(#clip710)\" style=\"stroke:#000000; stroke-linecap:butt; stroke-linejoin:round; stroke-width:4; stroke-opacity:1; fill:none\" points=\"\n",
       "  365.467,1486.45 365.467,123.472 \n",
       "  \"/>\n",
       "<polyline clip-path=\"url(#clip710)\" style=\"stroke:#000000; stroke-linecap:butt; stroke-linejoin:round; stroke-width:4; stroke-opacity:1; fill:none\" points=\"\n",
       "  365.467,1315.7 389.315,1315.7 \n",
       "  \"/>\n",
       "<polyline clip-path=\"url(#clip710)\" style=\"stroke:#000000; stroke-linecap:butt; stroke-linejoin:round; stroke-width:4; stroke-opacity:1; fill:none\" points=\"\n",
       "  365.467,1106.1 389.315,1106.1 \n",
       "  \"/>\n",
       "<polyline clip-path=\"url(#clip710)\" style=\"stroke:#000000; stroke-linecap:butt; stroke-linejoin:round; stroke-width:4; stroke-opacity:1; fill:none\" points=\"\n",
       "  365.467,896.499 389.315,896.499 \n",
       "  \"/>\n",
       "<polyline clip-path=\"url(#clip710)\" style=\"stroke:#000000; stroke-linecap:butt; stroke-linejoin:round; stroke-width:4; stroke-opacity:1; fill:none\" points=\"\n",
       "  365.467,686.901 389.315,686.901 \n",
       "  \"/>\n",
       "<polyline clip-path=\"url(#clip710)\" style=\"stroke:#000000; stroke-linecap:butt; stroke-linejoin:round; stroke-width:4; stroke-opacity:1; fill:none\" points=\"\n",
       "  365.467,477.302 389.315,477.302 \n",
       "  \"/>\n",
       "<polyline clip-path=\"url(#clip710)\" style=\"stroke:#000000; stroke-linecap:butt; stroke-linejoin:round; stroke-width:4; stroke-opacity:1; fill:none\" points=\"\n",
       "  365.467,267.703 389.315,267.703 \n",
       "  \"/>\n",
       "<path clip-path=\"url(#clip710)\" d=\"M56.6171 1335.49 L72.9365 1335.49 L72.9365 1339.42 L50.9921 1339.42 L50.9921 1335.49 Q53.6541 1332.73 58.2375 1328.1 Q62.8439 1323.45 64.0245 1322.11 Q66.2698 1319.59 67.1494 1317.85 Q68.0522 1316.09 68.0522 1314.4 Q68.0522 1311.65 66.1078 1309.91 Q64.1865 1308.17 61.0847 1308.17 Q58.8856 1308.17 56.4319 1308.94 Q54.0014 1309.7 51.2236 1311.25 L51.2236 1306.53 Q54.0477 1305.4 56.5014 1304.82 Q58.955 1304.24 60.9921 1304.24 Q66.3624 1304.24 69.5568 1306.92 Q72.7513 1309.61 72.7513 1314.1 Q72.7513 1316.23 71.9411 1318.15 Q71.1541 1320.05 69.0476 1322.64 Q68.4689 1323.31 65.367 1326.53 Q62.2652 1329.72 56.6171 1335.49 Z\" fill=\"#000000\" fill-rule=\"evenodd\" fill-opacity=\"1\" /><path clip-path=\"url(#clip710)\" d=\"M82.7512 1333.54 L87.6354 1333.54 L87.6354 1339.42 L82.7512 1339.42 L82.7512 1333.54 Z\" fill=\"#000000\" fill-rule=\"evenodd\" fill-opacity=\"1\" /><path clip-path=\"url(#clip710)\" d=\"M97.9595 1338.71 L97.9595 1334.45 Q99.7187 1335.28 101.524 1335.72 Q103.33 1336.16 105.066 1336.16 Q109.696 1336.16 112.126 1333.06 Q114.58 1329.93 114.927 1323.59 Q113.584 1325.58 111.524 1326.65 Q109.464 1327.71 106.964 1327.71 Q101.779 1327.71 98.7465 1324.59 Q95.7373 1321.44 95.7373 1316 Q95.7373 1310.67 98.8854 1307.46 Q102.034 1304.24 107.265 1304.24 Q113.26 1304.24 116.408 1308.85 Q119.58 1313.43 119.58 1322.18 Q119.58 1330.35 115.691 1335.23 Q111.825 1340.1 105.274 1340.1 Q103.515 1340.1 101.709 1339.75 Q99.9039 1339.4 97.9595 1338.71 M107.265 1324.05 Q110.413 1324.05 112.242 1321.9 Q114.094 1319.75 114.094 1316 Q114.094 1312.27 112.242 1310.12 Q110.413 1307.94 107.265 1307.94 Q104.117 1307.94 102.265 1310.12 Q100.436 1312.27 100.436 1316 Q100.436 1319.75 102.265 1321.9 Q104.117 1324.05 107.265 1324.05 Z\" fill=\"#000000\" fill-rule=\"evenodd\" fill-opacity=\"1\" /><path clip-path=\"url(#clip710)\" d=\"M142.149 1320.79 Q145.506 1321.51 147.38 1323.78 Q149.279 1326.04 149.279 1329.38 Q149.279 1334.49 145.76 1337.29 Q142.242 1340.1 135.76 1340.1 Q133.584 1340.1 131.269 1339.66 Q128.978 1339.24 126.524 1338.38 L126.524 1333.87 Q128.469 1335 130.783 1335.58 Q133.098 1336.16 135.621 1336.16 Q140.019 1336.16 142.311 1334.42 Q144.626 1332.69 144.626 1329.38 Q144.626 1326.32 142.473 1324.61 Q140.343 1322.87 136.524 1322.87 L132.496 1322.87 L132.496 1319.03 L136.709 1319.03 Q140.158 1319.03 141.987 1317.66 Q143.816 1316.28 143.816 1313.68 Q143.816 1311.02 141.918 1309.61 Q140.043 1308.17 136.524 1308.17 Q134.603 1308.17 132.404 1308.59 Q130.205 1309.01 127.566 1309.89 L127.566 1305.72 Q130.228 1304.98 132.543 1304.61 Q134.881 1304.24 136.941 1304.24 Q142.265 1304.24 145.367 1306.67 Q148.468 1309.08 148.468 1313.2 Q148.468 1316.07 146.825 1318.06 Q145.181 1320.03 142.149 1320.79 Z\" fill=\"#000000\" fill-rule=\"evenodd\" fill-opacity=\"1\" /><path clip-path=\"url(#clip710)\" d=\"M168.144 1307.94 Q164.533 1307.94 162.704 1311.51 Q160.899 1315.05 160.899 1322.18 Q160.899 1329.28 162.704 1332.85 Q164.533 1336.39 168.144 1336.39 Q171.779 1336.39 173.584 1332.85 Q175.413 1329.28 175.413 1322.18 Q175.413 1315.05 173.584 1311.51 Q171.779 1307.94 168.144 1307.94 M168.144 1304.24 Q173.954 1304.24 177.01 1308.85 Q180.089 1313.43 180.089 1322.18 Q180.089 1330.91 177.01 1335.51 Q173.954 1340.1 168.144 1340.1 Q162.334 1340.1 159.255 1335.51 Q156.2 1330.91 156.2 1322.18 Q156.2 1313.43 159.255 1308.85 Q162.334 1304.24 168.144 1304.24 Z\" fill=\"#000000\" fill-rule=\"evenodd\" fill-opacity=\"1\" /><path clip-path=\"url(#clip710)\" d=\"M216.477 1313.96 L205.899 1324.59 L216.477 1335.16 L213.723 1337.97 L203.098 1327.34 L192.473 1337.97 L189.741 1335.16 L200.297 1324.59 L189.741 1313.96 L192.473 1311.16 L203.098 1321.79 L213.723 1311.16 L216.477 1313.96 Z\" fill=\"#000000\" fill-rule=\"evenodd\" fill-opacity=\"1\" /><path clip-path=\"url(#clip710)\" d=\"M228.838 1335.49 L236.477 1335.49 L236.477 1309.12 L228.167 1310.79 L228.167 1306.53 L236.431 1304.86 L241.107 1304.86 L241.107 1335.49 L248.746 1335.49 L248.746 1339.42 L228.838 1339.42 L228.838 1335.49 Z\" fill=\"#000000\" fill-rule=\"evenodd\" fill-opacity=\"1\" /><path clip-path=\"url(#clip710)\" d=\"M268.19 1307.94 Q264.579 1307.94 262.75 1311.51 Q260.945 1315.05 260.945 1322.18 Q260.945 1329.28 262.75 1332.85 Q264.579 1336.39 268.19 1336.39 Q271.824 1336.39 273.63 1332.85 Q275.459 1329.28 275.459 1322.18 Q275.459 1315.05 273.63 1311.51 Q271.824 1307.94 268.19 1307.94 M268.19 1304.24 Q274 1304.24 277.056 1308.85 Q280.134 1313.43 280.134 1322.18 Q280.134 1330.91 277.056 1335.51 Q274 1340.1 268.19 1340.1 Q262.38 1340.1 259.301 1335.51 Q256.246 1330.91 256.246 1322.18 Q256.246 1313.43 259.301 1308.85 Q262.38 1304.24 268.19 1304.24 Z\" fill=\"#000000\" fill-rule=\"evenodd\" fill-opacity=\"1\" /><path clip-path=\"url(#clip710)\" d=\"M280.134 1298.34 L304.246 1298.34 L304.246 1301.54 L280.134 1301.54 L280.134 1298.34 Z\" fill=\"#000000\" fill-rule=\"evenodd\" fill-opacity=\"1\" /><path clip-path=\"url(#clip710)\" d=\"M312.484 1283.93 L327.398 1283.93 L327.398 1287.13 L315.963 1287.13 L315.963 1294.01 Q316.791 1293.73 317.618 1293.6 Q318.446 1293.45 319.273 1293.45 Q323.975 1293.45 326.721 1296.03 Q329.467 1298.6 329.467 1303 Q329.467 1307.54 326.646 1310.06 Q323.825 1312.56 318.69 1312.56 Q316.922 1312.56 315.079 1312.26 Q313.255 1311.96 311.299 1311.36 L311.299 1307.54 Q312.992 1308.46 314.797 1308.91 Q316.603 1309.36 318.615 1309.36 Q321.869 1309.36 323.768 1307.65 Q325.668 1305.94 325.668 1303 Q325.668 1300.07 323.768 1298.36 Q321.869 1296.65 318.615 1296.65 Q317.092 1296.65 315.568 1296.99 Q314.064 1297.32 312.484 1298.04 L312.484 1283.93 Z\" fill=\"#000000\" fill-rule=\"evenodd\" fill-opacity=\"1\" /><path clip-path=\"url(#clip710)\" d=\"M56.6171 1125.89 L72.9365 1125.89 L72.9365 1129.83 L50.9921 1129.83 L50.9921 1125.89 Q53.6541 1123.14 58.2375 1118.51 Q62.8439 1113.85 64.0245 1112.51 Q66.2698 1109.99 67.1494 1108.25 Q68.0522 1106.49 68.0522 1104.8 Q68.0522 1102.05 66.1078 1100.31 Q64.1865 1098.58 61.0847 1098.58 Q58.8856 1098.58 56.4319 1099.34 Q54.0014 1100.1 51.2236 1101.65 L51.2236 1096.93 Q54.0477 1095.8 56.5014 1095.22 Q58.955 1094.64 60.9921 1094.64 Q66.3624 1094.64 69.5568 1097.33 Q72.7513 1100.01 72.7513 1104.5 Q72.7513 1106.63 71.9411 1108.55 Q71.1541 1110.45 69.0476 1113.04 Q68.4689 1113.71 65.367 1116.93 Q62.2652 1120.13 56.6171 1125.89 Z\" fill=\"#000000\" fill-rule=\"evenodd\" fill-opacity=\"1\" /><path clip-path=\"url(#clip710)\" d=\"M82.7512 1123.95 L87.6354 1123.95 L87.6354 1129.83 L82.7512 1129.83 L82.7512 1123.95 Z\" fill=\"#000000\" fill-rule=\"evenodd\" fill-opacity=\"1\" /><path clip-path=\"url(#clip710)\" d=\"M97.9595 1129.11 L97.9595 1124.85 Q99.7187 1125.68 101.524 1126.12 Q103.33 1126.56 105.066 1126.56 Q109.696 1126.56 112.126 1123.46 Q114.58 1120.33 114.927 1113.99 Q113.584 1115.98 111.524 1117.05 Q109.464 1118.11 106.964 1118.11 Q101.779 1118.11 98.7465 1114.99 Q95.7373 1111.84 95.7373 1106.4 Q95.7373 1101.08 98.8854 1097.86 Q102.034 1094.64 107.265 1094.64 Q113.26 1094.64 116.408 1099.25 Q119.58 1103.83 119.58 1112.58 Q119.58 1120.75 115.691 1125.64 Q111.825 1130.5 105.274 1130.5 Q103.515 1130.5 101.709 1130.15 Q99.9039 1129.8 97.9595 1129.11 M107.265 1114.45 Q110.413 1114.45 112.242 1112.3 Q114.094 1110.15 114.094 1106.4 Q114.094 1102.67 112.242 1100.52 Q110.413 1098.34 107.265 1098.34 Q104.117 1098.34 102.265 1100.52 Q100.436 1102.67 100.436 1106.4 Q100.436 1110.15 102.265 1112.3 Q104.117 1114.45 107.265 1114.45 Z\" fill=\"#000000\" fill-rule=\"evenodd\" fill-opacity=\"1\" /><path clip-path=\"url(#clip710)\" d=\"M140.83 1099.34 L129.024 1117.79 L140.83 1117.79 L140.83 1099.34 M139.603 1095.27 L145.482 1095.27 L145.482 1117.79 L150.413 1117.79 L150.413 1121.68 L145.482 1121.68 L145.482 1129.83 L140.83 1129.83 L140.83 1121.68 L125.228 1121.68 L125.228 1117.16 L139.603 1095.27 Z\" fill=\"#000000\" fill-rule=\"evenodd\" fill-opacity=\"1\" /><path clip-path=\"url(#clip710)\" d=\"M168.144 1098.34 Q164.533 1098.34 162.704 1101.91 Q160.899 1105.45 160.899 1112.58 Q160.899 1119.69 162.704 1123.25 Q164.533 1126.79 168.144 1126.79 Q171.779 1126.79 173.584 1123.25 Q175.413 1119.69 175.413 1112.58 Q175.413 1105.45 173.584 1101.91 Q171.779 1098.34 168.144 1098.34 M168.144 1094.64 Q173.954 1094.64 177.01 1099.25 Q180.089 1103.83 180.089 1112.58 Q180.089 1121.31 177.01 1125.91 Q173.954 1130.5 168.144 1130.5 Q162.334 1130.5 159.255 1125.91 Q156.2 1121.31 156.2 1112.58 Q156.2 1103.83 159.255 1099.25 Q162.334 1094.64 168.144 1094.64 Z\" fill=\"#000000\" fill-rule=\"evenodd\" fill-opacity=\"1\" /><path clip-path=\"url(#clip710)\" d=\"M216.477 1104.36 L205.899 1114.99 L216.477 1125.57 L213.723 1128.37 L203.098 1117.74 L192.473 1128.37 L189.741 1125.57 L200.297 1114.99 L189.741 1104.36 L192.473 1101.56 L203.098 1112.19 L213.723 1101.56 L216.477 1104.36 Z\" fill=\"#000000\" fill-rule=\"evenodd\" fill-opacity=\"1\" /><path clip-path=\"url(#clip710)\" d=\"M228.838 1125.89 L236.477 1125.89 L236.477 1099.52 L228.167 1101.19 L228.167 1096.93 L236.431 1095.27 L241.107 1095.27 L241.107 1125.89 L248.746 1125.89 L248.746 1129.83 L228.838 1129.83 L228.838 1125.89 Z\" fill=\"#000000\" fill-rule=\"evenodd\" fill-opacity=\"1\" /><path clip-path=\"url(#clip710)\" d=\"M268.19 1098.34 Q264.579 1098.34 262.75 1101.91 Q260.945 1105.45 260.945 1112.58 Q260.945 1119.69 262.75 1123.25 Q264.579 1126.79 268.19 1126.79 Q271.824 1126.79 273.63 1123.25 Q275.459 1119.69 275.459 1112.58 Q275.459 1105.45 273.63 1101.91 Q271.824 1098.34 268.19 1098.34 M268.19 1094.64 Q274 1094.64 277.056 1099.25 Q280.134 1103.83 280.134 1112.58 Q280.134 1121.31 277.056 1125.91 Q274 1130.5 268.19 1130.5 Q262.38 1130.5 259.301 1125.91 Q256.246 1121.31 256.246 1112.58 Q256.246 1103.83 259.301 1099.25 Q262.38 1094.64 268.19 1094.64 Z\" fill=\"#000000\" fill-rule=\"evenodd\" fill-opacity=\"1\" /><path clip-path=\"url(#clip710)\" d=\"M280.134 1088.74 L304.246 1088.74 L304.246 1091.94 L280.134 1091.94 L280.134 1088.74 Z\" fill=\"#000000\" fill-rule=\"evenodd\" fill-opacity=\"1\" /><path clip-path=\"url(#clip710)\" d=\"M312.484 1074.33 L327.398 1074.33 L327.398 1077.53 L315.963 1077.53 L315.963 1084.42 Q316.791 1084.13 317.618 1084 Q318.446 1083.85 319.273 1083.85 Q323.975 1083.85 326.721 1086.43 Q329.467 1089 329.467 1093.41 Q329.467 1097.94 326.646 1100.46 Q323.825 1102.96 318.69 1102.96 Q316.922 1102.96 315.079 1102.66 Q313.255 1102.36 311.299 1101.76 L311.299 1097.94 Q312.992 1098.86 314.797 1099.31 Q316.603 1099.76 318.615 1099.76 Q321.869 1099.76 323.768 1098.05 Q325.668 1096.34 325.668 1093.41 Q325.668 1090.47 323.768 1088.76 Q321.869 1087.05 318.615 1087.05 Q317.092 1087.05 315.568 1087.39 Q314.064 1087.73 312.484 1088.44 L312.484 1074.33 Z\" fill=\"#000000\" fill-rule=\"evenodd\" fill-opacity=\"1\" /><path clip-path=\"url(#clip710)\" d=\"M56.6171 916.292 L72.9365 916.292 L72.9365 920.227 L50.9921 920.227 L50.9921 916.292 Q53.6541 913.537 58.2375 908.907 Q62.8439 904.255 64.0245 902.912 Q66.2698 900.389 67.1494 898.653 Q68.0522 896.894 68.0522 895.204 Q68.0522 892.449 66.1078 890.713 Q64.1865 888.977 61.0847 888.977 Q58.8856 888.977 56.4319 889.741 Q54.0014 890.505 51.2236 892.056 L51.2236 887.333 Q54.0477 886.199 56.5014 885.62 Q58.955 885.042 60.9921 885.042 Q66.3624 885.042 69.5568 887.727 Q72.7513 890.412 72.7513 894.903 Q72.7513 897.032 71.9411 898.954 Q71.1541 900.852 69.0476 903.444 Q68.4689 904.116 65.367 907.333 Q62.2652 910.528 56.6171 916.292 Z\" fill=\"#000000\" fill-rule=\"evenodd\" fill-opacity=\"1\" /><path clip-path=\"url(#clip710)\" d=\"M82.7512 914.347 L87.6354 914.347 L87.6354 920.227 L82.7512 920.227 L82.7512 914.347 Z\" fill=\"#000000\" fill-rule=\"evenodd\" fill-opacity=\"1\" /><path clip-path=\"url(#clip710)\" d=\"M97.9595 919.509 L97.9595 915.25 Q99.7187 916.083 101.524 916.523 Q103.33 916.963 105.066 916.963 Q109.696 916.963 112.126 913.861 Q114.58 910.736 114.927 904.393 Q113.584 906.384 111.524 907.449 Q109.464 908.514 106.964 908.514 Q101.779 908.514 98.7465 905.389 Q95.7373 902.241 95.7373 896.801 Q95.7373 891.477 98.8854 888.259 Q102.034 885.042 107.265 885.042 Q113.26 885.042 116.408 889.648 Q119.58 894.231 119.58 902.981 Q119.58 911.153 115.691 916.037 Q111.825 920.898 105.274 920.898 Q103.515 920.898 101.709 920.551 Q99.9039 920.204 97.9595 919.509 M107.265 904.856 Q110.413 904.856 112.242 902.704 Q114.094 900.551 114.094 896.801 Q114.094 893.074 112.242 890.921 Q110.413 888.745 107.265 888.745 Q104.117 888.745 102.265 890.921 Q100.436 893.074 100.436 896.801 Q100.436 900.551 102.265 902.704 Q104.117 904.856 107.265 904.856 Z\" fill=\"#000000\" fill-rule=\"evenodd\" fill-opacity=\"1\" /><path clip-path=\"url(#clip710)\" d=\"M128.029 885.667 L146.385 885.667 L146.385 889.602 L132.311 889.602 L132.311 898.074 Q133.33 897.727 134.348 897.565 Q135.367 897.38 136.385 897.38 Q142.172 897.38 145.552 900.551 Q148.931 903.722 148.931 909.139 Q148.931 914.717 145.459 917.819 Q141.987 920.898 135.668 920.898 Q133.492 920.898 131.223 920.528 Q128.978 920.157 126.57 919.417 L126.57 914.717 Q128.654 915.852 130.876 916.407 Q133.098 916.963 135.575 916.963 Q139.58 916.963 141.918 914.856 Q144.256 912.75 144.256 909.139 Q144.256 905.528 141.918 903.421 Q139.58 901.315 135.575 901.315 Q133.7 901.315 131.825 901.731 Q129.973 902.148 128.029 903.028 L128.029 885.667 Z\" fill=\"#000000\" fill-rule=\"evenodd\" fill-opacity=\"1\" /><path clip-path=\"url(#clip710)\" d=\"M168.144 888.745 Q164.533 888.745 162.704 892.31 Q160.899 895.852 160.899 902.981 Q160.899 910.088 162.704 913.653 Q164.533 917.194 168.144 917.194 Q171.779 917.194 173.584 913.653 Q175.413 910.088 175.413 902.981 Q175.413 895.852 173.584 892.31 Q171.779 888.745 168.144 888.745 M168.144 885.042 Q173.954 885.042 177.01 889.648 Q180.089 894.231 180.089 902.981 Q180.089 911.708 177.01 916.315 Q173.954 920.898 168.144 920.898 Q162.334 920.898 159.255 916.315 Q156.2 911.708 156.2 902.981 Q156.2 894.231 159.255 889.648 Q162.334 885.042 168.144 885.042 Z\" fill=\"#000000\" fill-rule=\"evenodd\" fill-opacity=\"1\" /><path clip-path=\"url(#clip710)\" d=\"M216.477 894.764 L205.899 905.389 L216.477 915.967 L213.723 918.768 L203.098 908.143 L192.473 918.768 L189.741 915.967 L200.297 905.389 L189.741 894.764 L192.473 891.963 L203.098 902.588 L213.723 891.963 L216.477 894.764 Z\" fill=\"#000000\" fill-rule=\"evenodd\" fill-opacity=\"1\" /><path clip-path=\"url(#clip710)\" d=\"M228.838 916.292 L236.477 916.292 L236.477 889.926 L228.167 891.593 L228.167 887.333 L236.431 885.667 L241.107 885.667 L241.107 916.292 L248.746 916.292 L248.746 920.227 L228.838 920.227 L228.838 916.292 Z\" fill=\"#000000\" fill-rule=\"evenodd\" fill-opacity=\"1\" /><path clip-path=\"url(#clip710)\" d=\"M268.19 888.745 Q264.579 888.745 262.75 892.31 Q260.945 895.852 260.945 902.981 Q260.945 910.088 262.75 913.653 Q264.579 917.194 268.19 917.194 Q271.824 917.194 273.63 913.653 Q275.459 910.088 275.459 902.981 Q275.459 895.852 273.63 892.31 Q271.824 888.745 268.19 888.745 M268.19 885.042 Q274 885.042 277.056 889.648 Q280.134 894.231 280.134 902.981 Q280.134 911.708 277.056 916.315 Q274 920.898 268.19 920.898 Q262.38 920.898 259.301 916.315 Q256.246 911.708 256.246 902.981 Q256.246 894.231 259.301 889.648 Q262.38 885.042 268.19 885.042 Z\" fill=\"#000000\" fill-rule=\"evenodd\" fill-opacity=\"1\" /><path clip-path=\"url(#clip710)\" d=\"M280.134 879.143 L304.246 879.143 L304.246 882.34 L280.134 882.34 L280.134 879.143 Z\" fill=\"#000000\" fill-rule=\"evenodd\" fill-opacity=\"1\" /><path clip-path=\"url(#clip710)\" d=\"M312.484 864.736 L327.398 864.736 L327.398 867.934 L315.963 867.934 L315.963 874.817 Q316.791 874.535 317.618 874.404 Q318.446 874.253 319.273 874.253 Q323.975 874.253 326.721 876.83 Q329.467 879.406 329.467 883.807 Q329.467 888.34 326.646 890.86 Q323.825 893.362 318.69 893.362 Q316.922 893.362 315.079 893.061 Q313.255 892.76 311.299 892.158 L311.299 888.34 Q312.992 889.262 314.797 889.713 Q316.603 890.164 318.615 890.164 Q321.869 890.164 323.768 888.453 Q325.668 886.741 325.668 883.807 Q325.668 880.873 323.768 879.162 Q321.869 877.45 318.615 877.45 Q317.092 877.45 315.568 877.789 Q314.064 878.127 312.484 878.842 L312.484 864.736 Z\" fill=\"#000000\" fill-rule=\"evenodd\" fill-opacity=\"1\" /><path clip-path=\"url(#clip710)\" d=\"M56.6171 706.693 L72.9365 706.693 L72.9365 710.628 L50.9921 710.628 L50.9921 706.693 Q53.6541 703.938 58.2375 699.309 Q62.8439 694.656 64.0245 693.313 Q66.2698 690.79 67.1494 689.054 Q68.0522 687.295 68.0522 685.605 Q68.0522 682.851 66.1078 681.114 Q64.1865 679.378 61.0847 679.378 Q58.8856 679.378 56.4319 680.142 Q54.0014 680.906 51.2236 682.457 L51.2236 677.735 Q54.0477 676.601 56.5014 676.022 Q58.955 675.443 60.9921 675.443 Q66.3624 675.443 69.5568 678.128 Q72.7513 680.814 72.7513 685.304 Q72.7513 687.434 71.9411 689.355 Q71.1541 691.253 69.0476 693.846 Q68.4689 694.517 65.367 697.735 Q62.2652 700.929 56.6171 706.693 Z\" fill=\"#000000\" fill-rule=\"evenodd\" fill-opacity=\"1\" /><path clip-path=\"url(#clip710)\" d=\"M82.7512 704.749 L87.6354 704.749 L87.6354 710.628 L82.7512 710.628 L82.7512 704.749 Z\" fill=\"#000000\" fill-rule=\"evenodd\" fill-opacity=\"1\" /><path clip-path=\"url(#clip710)\" d=\"M97.9595 709.911 L97.9595 705.651 Q99.7187 706.485 101.524 706.924 Q103.33 707.364 105.066 707.364 Q109.696 707.364 112.126 704.262 Q114.58 701.137 114.927 694.795 Q113.584 696.786 111.524 697.85 Q109.464 698.915 106.964 698.915 Q101.779 698.915 98.7465 695.79 Q95.7373 692.642 95.7373 687.202 Q95.7373 681.878 98.8854 678.661 Q102.034 675.443 107.265 675.443 Q113.26 675.443 116.408 680.05 Q119.58 684.633 119.58 693.383 Q119.58 701.554 115.691 706.438 Q111.825 711.299 105.274 711.299 Q103.515 711.299 101.709 710.952 Q99.9039 710.605 97.9595 709.911 M107.265 695.258 Q110.413 695.258 112.242 693.105 Q114.094 690.952 114.094 687.202 Q114.094 683.476 112.242 681.323 Q110.413 679.147 107.265 679.147 Q104.117 679.147 102.265 681.323 Q100.436 683.476 100.436 687.202 Q100.436 690.952 102.265 693.105 Q104.117 695.258 107.265 695.258 Z\" fill=\"#000000\" fill-rule=\"evenodd\" fill-opacity=\"1\" /><path clip-path=\"url(#clip710)\" d=\"M138.561 691.485 Q135.413 691.485 133.561 693.638 Q131.732 695.79 131.732 699.54 Q131.732 703.267 133.561 705.443 Q135.413 707.596 138.561 707.596 Q141.709 707.596 143.538 705.443 Q145.39 703.267 145.39 699.54 Q145.39 695.79 143.538 693.638 Q141.709 691.485 138.561 691.485 M147.843 676.832 L147.843 681.091 Q146.084 680.258 144.279 679.818 Q142.496 679.378 140.737 679.378 Q136.107 679.378 133.654 682.503 Q131.223 685.628 130.876 691.948 Q132.242 689.934 134.302 688.869 Q136.362 687.781 138.839 687.781 Q144.047 687.781 147.056 690.952 Q150.089 694.1 150.089 699.54 Q150.089 704.864 146.941 708.082 Q143.793 711.299 138.561 711.299 Q132.566 711.299 129.394 706.716 Q126.223 702.11 126.223 693.383 Q126.223 685.188 130.112 680.327 Q134.001 675.443 140.552 675.443 Q142.311 675.443 144.093 675.79 Q145.899 676.138 147.843 676.832 Z\" fill=\"#000000\" fill-rule=\"evenodd\" fill-opacity=\"1\" /><path clip-path=\"url(#clip710)\" d=\"M168.144 679.147 Q164.533 679.147 162.704 682.712 Q160.899 686.253 160.899 693.383 Q160.899 700.489 162.704 704.054 Q164.533 707.596 168.144 707.596 Q171.779 707.596 173.584 704.054 Q175.413 700.489 175.413 693.383 Q175.413 686.253 173.584 682.712 Q171.779 679.147 168.144 679.147 M168.144 675.443 Q173.954 675.443 177.01 680.05 Q180.089 684.633 180.089 693.383 Q180.089 702.11 177.01 706.716 Q173.954 711.299 168.144 711.299 Q162.334 711.299 159.255 706.716 Q156.2 702.11 156.2 693.383 Q156.2 684.633 159.255 680.05 Q162.334 675.443 168.144 675.443 Z\" fill=\"#000000\" fill-rule=\"evenodd\" fill-opacity=\"1\" /><path clip-path=\"url(#clip710)\" d=\"M216.477 685.165 L205.899 695.79 L216.477 706.369 L213.723 709.17 L203.098 698.545 L192.473 709.17 L189.741 706.369 L200.297 695.79 L189.741 685.165 L192.473 682.364 L203.098 692.989 L213.723 682.364 L216.477 685.165 Z\" fill=\"#000000\" fill-rule=\"evenodd\" fill-opacity=\"1\" /><path clip-path=\"url(#clip710)\" d=\"M228.838 706.693 L236.477 706.693 L236.477 680.327 L228.167 681.994 L228.167 677.735 L236.431 676.068 L241.107 676.068 L241.107 706.693 L248.746 706.693 L248.746 710.628 L228.838 710.628 L228.838 706.693 Z\" fill=\"#000000\" fill-rule=\"evenodd\" fill-opacity=\"1\" /><path clip-path=\"url(#clip710)\" d=\"M268.19 679.147 Q264.579 679.147 262.75 682.712 Q260.945 686.253 260.945 693.383 Q260.945 700.489 262.75 704.054 Q264.579 707.596 268.19 707.596 Q271.824 707.596 273.63 704.054 Q275.459 700.489 275.459 693.383 Q275.459 686.253 273.63 682.712 Q271.824 679.147 268.19 679.147 M268.19 675.443 Q274 675.443 277.056 680.05 Q280.134 684.633 280.134 693.383 Q280.134 702.11 277.056 706.716 Q274 711.299 268.19 711.299 Q262.38 711.299 259.301 706.716 Q256.246 702.11 256.246 693.383 Q256.246 684.633 259.301 680.05 Q262.38 675.443 268.19 675.443 Z\" fill=\"#000000\" fill-rule=\"evenodd\" fill-opacity=\"1\" /><path clip-path=\"url(#clip710)\" d=\"M280.134 669.545 L304.246 669.545 L304.246 672.742 L280.134 672.742 L280.134 669.545 Z\" fill=\"#000000\" fill-rule=\"evenodd\" fill-opacity=\"1\" /><path clip-path=\"url(#clip710)\" d=\"M312.484 655.138 L327.398 655.138 L327.398 658.335 L315.963 658.335 L315.963 665.219 Q316.791 664.937 317.618 664.805 Q318.446 664.655 319.273 664.655 Q323.975 664.655 326.721 667.231 Q329.467 669.808 329.467 674.209 Q329.467 678.742 326.646 681.262 Q323.825 683.763 318.69 683.763 Q316.922 683.763 315.079 683.462 Q313.255 683.161 311.299 682.559 L311.299 678.742 Q312.992 679.663 314.797 680.114 Q316.603 680.566 318.615 680.566 Q321.869 680.566 323.768 678.854 Q325.668 677.143 325.668 674.209 Q325.668 671.275 323.768 669.563 Q321.869 667.852 318.615 667.852 Q317.092 667.852 315.568 668.19 Q314.064 668.529 312.484 669.244 L312.484 655.138 Z\" fill=\"#000000\" fill-rule=\"evenodd\" fill-opacity=\"1\" /><path clip-path=\"url(#clip710)\" d=\"M56.6171 497.094 L72.9365 497.094 L72.9365 501.03 L50.9921 501.03 L50.9921 497.094 Q53.6541 494.34 58.2375 489.71 Q62.8439 485.057 64.0245 483.715 Q66.2698 481.192 67.1494 479.456 Q68.0522 477.696 68.0522 476.007 Q68.0522 473.252 66.1078 471.516 Q64.1865 469.78 61.0847 469.78 Q58.8856 469.78 56.4319 470.544 Q54.0014 471.308 51.2236 472.858 L51.2236 468.136 Q54.0477 467.002 56.5014 466.423 Q58.955 465.845 60.9921 465.845 Q66.3624 465.845 69.5568 468.53 Q72.7513 471.215 72.7513 475.706 Q72.7513 477.835 71.9411 479.757 Q71.1541 481.655 69.0476 484.247 Q68.4689 484.919 65.367 488.136 Q62.2652 491.331 56.6171 497.094 Z\" fill=\"#000000\" fill-rule=\"evenodd\" fill-opacity=\"1\" /><path clip-path=\"url(#clip710)\" d=\"M82.7512 495.15 L87.6354 495.15 L87.6354 501.03 L82.7512 501.03 L82.7512 495.15 Z\" fill=\"#000000\" fill-rule=\"evenodd\" fill-opacity=\"1\" /><path clip-path=\"url(#clip710)\" d=\"M97.9595 500.312 L97.9595 496.053 Q99.7187 496.886 101.524 497.326 Q103.33 497.766 105.066 497.766 Q109.696 497.766 112.126 494.664 Q114.58 491.539 114.927 485.196 Q113.584 487.187 111.524 488.252 Q109.464 489.317 106.964 489.317 Q101.779 489.317 98.7465 486.192 Q95.7373 483.044 95.7373 477.604 Q95.7373 472.28 98.8854 469.062 Q102.034 465.845 107.265 465.845 Q113.26 465.845 116.408 470.451 Q119.58 475.034 119.58 483.784 Q119.58 491.956 115.691 496.84 Q111.825 501.701 105.274 501.701 Q103.515 501.701 101.709 501.354 Q99.9039 501.006 97.9595 500.312 M107.265 485.659 Q110.413 485.659 112.242 483.507 Q114.094 481.354 114.094 477.604 Q114.094 473.877 112.242 471.724 Q110.413 469.548 107.265 469.548 Q104.117 469.548 102.265 471.724 Q100.436 473.877 100.436 477.604 Q100.436 481.354 102.265 483.507 Q104.117 485.659 107.265 485.659 Z\" fill=\"#000000\" fill-rule=\"evenodd\" fill-opacity=\"1\" /><path clip-path=\"url(#clip710)\" d=\"M126.802 466.47 L149.024 466.47 L149.024 468.46 L136.478 501.03 L131.594 501.03 L143.399 470.405 L126.802 470.405 L126.802 466.47 Z\" fill=\"#000000\" fill-rule=\"evenodd\" fill-opacity=\"1\" /><path clip-path=\"url(#clip710)\" d=\"M168.144 469.548 Q164.533 469.548 162.704 473.113 Q160.899 476.655 160.899 483.784 Q160.899 490.891 162.704 494.456 Q164.533 497.997 168.144 497.997 Q171.779 497.997 173.584 494.456 Q175.413 490.891 175.413 483.784 Q175.413 476.655 173.584 473.113 Q171.779 469.548 168.144 469.548 M168.144 465.845 Q173.954 465.845 177.01 470.451 Q180.089 475.034 180.089 483.784 Q180.089 492.511 177.01 497.118 Q173.954 501.701 168.144 501.701 Q162.334 501.701 159.255 497.118 Q156.2 492.511 156.2 483.784 Q156.2 475.034 159.255 470.451 Q162.334 465.845 168.144 465.845 Z\" fill=\"#000000\" fill-rule=\"evenodd\" fill-opacity=\"1\" /><path clip-path=\"url(#clip710)\" d=\"M216.477 475.567 L205.899 486.192 L216.477 496.77 L213.723 499.571 L203.098 488.946 L192.473 499.571 L189.741 496.77 L200.297 486.192 L189.741 475.567 L192.473 472.766 L203.098 483.391 L213.723 472.766 L216.477 475.567 Z\" fill=\"#000000\" fill-rule=\"evenodd\" fill-opacity=\"1\" /><path clip-path=\"url(#clip710)\" d=\"M228.838 497.094 L236.477 497.094 L236.477 470.729 L228.167 472.396 L228.167 468.136 L236.431 466.47 L241.107 466.47 L241.107 497.094 L248.746 497.094 L248.746 501.03 L228.838 501.03 L228.838 497.094 Z\" fill=\"#000000\" fill-rule=\"evenodd\" fill-opacity=\"1\" /><path clip-path=\"url(#clip710)\" d=\"M268.19 469.548 Q264.579 469.548 262.75 473.113 Q260.945 476.655 260.945 483.784 Q260.945 490.891 262.75 494.456 Q264.579 497.997 268.19 497.997 Q271.824 497.997 273.63 494.456 Q275.459 490.891 275.459 483.784 Q275.459 476.655 273.63 473.113 Q271.824 469.548 268.19 469.548 M268.19 465.845 Q274 465.845 277.056 470.451 Q280.134 475.034 280.134 483.784 Q280.134 492.511 277.056 497.118 Q274 501.701 268.19 501.701 Q262.38 501.701 259.301 497.118 Q256.246 492.511 256.246 483.784 Q256.246 475.034 259.301 470.451 Q262.38 465.845 268.19 465.845 Z\" fill=\"#000000\" fill-rule=\"evenodd\" fill-opacity=\"1\" /><path clip-path=\"url(#clip710)\" d=\"M280.134 459.946 L304.246 459.946 L304.246 463.143 L280.134 463.143 L280.134 459.946 Z\" fill=\"#000000\" fill-rule=\"evenodd\" fill-opacity=\"1\" /><path clip-path=\"url(#clip710)\" d=\"M312.484 445.539 L327.398 445.539 L327.398 448.737 L315.963 448.737 L315.963 455.62 Q316.791 455.338 317.618 455.206 Q318.446 455.056 319.273 455.056 Q323.975 455.056 326.721 457.633 Q329.467 460.209 329.467 464.61 Q329.467 469.143 326.646 471.663 Q323.825 474.165 318.69 474.165 Q316.922 474.165 315.079 473.864 Q313.255 473.563 311.299 472.961 L311.299 469.143 Q312.992 470.065 314.797 470.516 Q316.603 470.967 318.615 470.967 Q321.869 470.967 323.768 469.256 Q325.668 467.544 325.668 464.61 Q325.668 461.676 323.768 459.965 Q321.869 458.253 318.615 458.253 Q317.092 458.253 315.568 458.592 Q314.064 458.93 312.484 459.645 L312.484 445.539 Z\" fill=\"#000000\" fill-rule=\"evenodd\" fill-opacity=\"1\" /><path clip-path=\"url(#clip710)\" d=\"M56.6171 287.496 L72.9365 287.496 L72.9365 291.431 L50.9921 291.431 L50.9921 287.496 Q53.6541 284.741 58.2375 280.112 Q62.8439 275.459 64.0245 274.116 Q66.2698 271.593 67.1494 269.857 Q68.0522 268.098 68.0522 266.408 Q68.0522 263.653 66.1078 261.917 Q64.1865 260.181 61.0847 260.181 Q58.8856 260.181 56.4319 260.945 Q54.0014 261.709 51.2236 263.26 L51.2236 258.538 Q54.0477 257.403 56.5014 256.825 Q58.955 256.246 60.9921 256.246 Q66.3624 256.246 69.5568 258.931 Q72.7513 261.616 72.7513 266.107 Q72.7513 268.237 71.9411 270.158 Q71.1541 272.056 69.0476 274.649 Q68.4689 275.32 65.367 278.538 Q62.2652 281.732 56.6171 287.496 Z\" fill=\"#000000\" fill-rule=\"evenodd\" fill-opacity=\"1\" /><path clip-path=\"url(#clip710)\" d=\"M82.7512 285.551 L87.6354 285.551 L87.6354 291.431 L82.7512 291.431 L82.7512 285.551 Z\" fill=\"#000000\" fill-rule=\"evenodd\" fill-opacity=\"1\" /><path clip-path=\"url(#clip710)\" d=\"M97.9595 290.713 L97.9595 286.454 Q99.7187 287.288 101.524 287.727 Q103.33 288.167 105.066 288.167 Q109.696 288.167 112.126 285.065 Q114.58 281.94 114.927 275.598 Q113.584 277.589 111.524 278.653 Q109.464 279.718 106.964 279.718 Q101.779 279.718 98.7465 276.593 Q95.7373 273.445 95.7373 268.005 Q95.7373 262.681 98.8854 259.464 Q102.034 256.246 107.265 256.246 Q113.26 256.246 116.408 260.853 Q119.58 265.436 119.58 274.186 Q119.58 282.357 115.691 287.241 Q111.825 292.102 105.274 292.102 Q103.515 292.102 101.709 291.755 Q99.9039 291.408 97.9595 290.713 M107.265 276.061 Q110.413 276.061 112.242 273.908 Q114.094 271.755 114.094 268.005 Q114.094 264.278 112.242 262.126 Q110.413 259.95 107.265 259.95 Q104.117 259.95 102.265 262.126 Q100.436 264.278 100.436 268.005 Q100.436 271.755 102.265 273.908 Q104.117 276.061 107.265 276.061 Z\" fill=\"#000000\" fill-rule=\"evenodd\" fill-opacity=\"1\" /><path clip-path=\"url(#clip710)\" d=\"M137.982 275.019 Q134.649 275.019 132.728 276.802 Q130.83 278.584 130.83 281.709 Q130.83 284.834 132.728 286.616 Q134.649 288.399 137.982 288.399 Q141.316 288.399 143.237 286.616 Q145.158 284.811 145.158 281.709 Q145.158 278.584 143.237 276.802 Q141.339 275.019 137.982 275.019 M133.306 273.028 Q130.297 272.288 128.607 270.227 Q126.941 268.167 126.941 265.204 Q126.941 261.061 129.881 258.653 Q132.844 256.246 137.982 256.246 Q143.144 256.246 146.084 258.653 Q149.024 261.061 149.024 265.204 Q149.024 268.167 147.334 270.227 Q145.668 272.288 142.681 273.028 Q146.061 273.815 147.936 276.107 Q149.834 278.399 149.834 281.709 Q149.834 286.732 146.756 289.417 Q143.7 292.102 137.982 292.102 Q132.265 292.102 129.186 289.417 Q126.131 286.732 126.131 281.709 Q126.131 278.399 128.029 276.107 Q129.927 273.815 133.306 273.028 M131.594 265.644 Q131.594 268.329 133.26 269.834 Q134.95 271.339 137.982 271.339 Q140.992 271.339 142.681 269.834 Q144.394 268.329 144.394 265.644 Q144.394 262.959 142.681 261.454 Q140.992 259.95 137.982 259.95 Q134.95 259.95 133.26 261.454 Q131.594 262.959 131.594 265.644 Z\" fill=\"#000000\" fill-rule=\"evenodd\" fill-opacity=\"1\" /><path clip-path=\"url(#clip710)\" d=\"M168.144 259.95 Q164.533 259.95 162.704 263.515 Q160.899 267.056 160.899 274.186 Q160.899 281.292 162.704 284.857 Q164.533 288.399 168.144 288.399 Q171.779 288.399 173.584 284.857 Q175.413 281.292 175.413 274.186 Q175.413 267.056 173.584 263.515 Q171.779 259.95 168.144 259.95 M168.144 256.246 Q173.954 256.246 177.01 260.853 Q180.089 265.436 180.089 274.186 Q180.089 282.913 177.01 287.519 Q173.954 292.102 168.144 292.102 Q162.334 292.102 159.255 287.519 Q156.2 282.913 156.2 274.186 Q156.2 265.436 159.255 260.853 Q162.334 256.246 168.144 256.246 Z\" fill=\"#000000\" fill-rule=\"evenodd\" fill-opacity=\"1\" /><path clip-path=\"url(#clip710)\" d=\"M216.477 265.968 L205.899 276.593 L216.477 287.172 L213.723 289.973 L203.098 279.348 L192.473 289.973 L189.741 287.172 L200.297 276.593 L189.741 265.968 L192.473 263.167 L203.098 273.792 L213.723 263.167 L216.477 265.968 Z\" fill=\"#000000\" fill-rule=\"evenodd\" fill-opacity=\"1\" /><path clip-path=\"url(#clip710)\" d=\"M228.838 287.496 L236.477 287.496 L236.477 261.13 L228.167 262.797 L228.167 258.538 L236.431 256.871 L241.107 256.871 L241.107 287.496 L248.746 287.496 L248.746 291.431 L228.838 291.431 L228.838 287.496 Z\" fill=\"#000000\" fill-rule=\"evenodd\" fill-opacity=\"1\" /><path clip-path=\"url(#clip710)\" d=\"M268.19 259.95 Q264.579 259.95 262.75 263.515 Q260.945 267.056 260.945 274.186 Q260.945 281.292 262.75 284.857 Q264.579 288.399 268.19 288.399 Q271.824 288.399 273.63 284.857 Q275.459 281.292 275.459 274.186 Q275.459 267.056 273.63 263.515 Q271.824 259.95 268.19 259.95 M268.19 256.246 Q274 256.246 277.056 260.853 Q280.134 265.436 280.134 274.186 Q280.134 282.913 277.056 287.519 Q274 292.102 268.19 292.102 Q262.38 292.102 259.301 287.519 Q256.246 282.913 256.246 274.186 Q256.246 265.436 259.301 260.853 Q262.38 256.246 268.19 256.246 Z\" fill=\"#000000\" fill-rule=\"evenodd\" fill-opacity=\"1\" /><path clip-path=\"url(#clip710)\" d=\"M280.134 250.347 L304.246 250.347 L304.246 253.545 L280.134 253.545 L280.134 250.347 Z\" fill=\"#000000\" fill-rule=\"evenodd\" fill-opacity=\"1\" /><path clip-path=\"url(#clip710)\" d=\"M312.484 235.941 L327.398 235.941 L327.398 239.138 L315.963 239.138 L315.963 246.022 Q316.791 245.74 317.618 245.608 Q318.446 245.457 319.273 245.457 Q323.975 245.457 326.721 248.034 Q329.467 250.611 329.467 255.012 Q329.467 259.544 326.646 262.065 Q323.825 264.566 318.69 264.566 Q316.922 264.566 315.079 264.265 Q313.255 263.964 311.299 263.362 L311.299 259.544 Q312.992 260.466 314.797 260.917 Q316.603 261.369 318.615 261.369 Q321.869 261.369 323.768 259.657 Q325.668 257.946 325.668 255.012 Q325.668 252.078 323.768 250.366 Q321.869 248.655 318.615 248.655 Q317.092 248.655 315.568 248.993 Q314.064 249.332 312.484 250.047 L312.484 235.941 Z\" fill=\"#000000\" fill-rule=\"evenodd\" fill-opacity=\"1\" /><path clip-path=\"url(#clip710)\" d=\"M982.094 16.7545 L982.094 25.383 Q977.962 21.5346 973.263 19.6307 Q968.604 17.7268 963.338 17.7268 Q952.968 17.7268 947.459 24.0867 Q941.949 30.4061 941.949 42.3968 Q941.949 54.3469 947.459 60.7069 Q952.968 67.0263 963.338 67.0263 Q968.604 67.0263 973.263 65.1223 Q977.962 63.2184 982.094 59.3701 L982.094 67.9175 Q977.8 70.8341 972.979 72.2924 Q968.199 73.7508 962.852 73.7508 Q949.12 73.7508 941.22 65.3654 Q933.321 56.9395 933.321 42.3968 Q933.321 27.8135 941.22 19.4281 Q949.12 11.0023 962.852 11.0023 Q968.28 11.0023 973.06 12.4606 Q977.881 13.8784 982.094 16.7545 Z\" fill=\"#000000\" fill-rule=\"evenodd\" fill-opacity=\"1\" /><path clip-path=\"url(#clip710)\" d=\"M1011.99 32.4315 Q1005.99 32.4315 1002.51 37.1306 Q999.027 41.7891 999.027 49.9314 Q999.027 58.0738 1002.47 62.7728 Q1005.95 67.4314 1011.99 67.4314 Q1017.94 67.4314 1021.43 62.7323 Q1024.91 58.0333 1024.91 49.9314 Q1024.91 41.8701 1021.43 37.1711 Q1017.94 32.4315 1011.99 32.4315 M1011.99 26.1121 Q1021.71 26.1121 1027.26 32.4315 Q1032.81 38.7509 1032.81 49.9314 Q1032.81 61.0714 1027.26 67.4314 Q1021.71 73.7508 1011.99 73.7508 Q1002.23 73.7508 996.677 67.4314 Q991.168 61.0714 991.168 49.9314 Q991.168 38.7509 996.677 32.4315 Q1002.23 26.1121 1011.99 26.1121 Z\" fill=\"#000000\" fill-rule=\"evenodd\" fill-opacity=\"1\" /><path clip-path=\"url(#clip710)\" d=\"M1082.88 45.1919 L1082.88 72.576 L1075.43 72.576 L1075.43 45.4349 Q1075.43 38.994 1072.92 35.7938 Q1070.4 32.5936 1065.38 32.5936 Q1059.34 32.5936 1055.86 36.4419 Q1052.38 40.2903 1052.38 46.9338 L1052.38 72.576 L1044.88 72.576 L1044.88 27.2059 L1052.38 27.2059 L1052.38 34.2544 Q1055.05 30.163 1058.66 28.1376 Q1062.3 26.1121 1067.04 26.1121 Q1074.86 26.1121 1078.87 30.9732 Q1082.88 35.7938 1082.88 45.1919 Z\" fill=\"#000000\" fill-rule=\"evenodd\" fill-opacity=\"1\" /><path clip-path=\"url(#clip710)\" d=\"M1092.4 27.2059 L1100.3 27.2059 L1114.48 65.2844 L1128.66 27.2059 L1136.55 27.2059 L1119.54 72.576 L1109.41 72.576 L1092.4 27.2059 Z\" fill=\"#000000\" fill-rule=\"evenodd\" fill-opacity=\"1\" /><path clip-path=\"url(#clip710)\" d=\"M1185.65 48.0275 L1185.65 51.6733 L1151.38 51.6733 Q1151.87 59.3701 1156 63.421 Q1160.17 67.4314 1167.58 67.4314 Q1171.88 67.4314 1175.89 66.3781 Q1179.94 65.3249 1183.91 63.2184 L1183.91 70.267 Q1179.9 71.9684 1175.69 72.8596 Q1171.47 73.7508 1167.14 73.7508 Q1156.28 73.7508 1149.92 67.4314 Q1143.6 61.1119 1143.6 50.3365 Q1143.6 39.1965 1149.6 32.6746 Q1155.63 26.1121 1165.84 26.1121 Q1175 26.1121 1180.3 32.0264 Q1185.65 37.9003 1185.65 48.0275 M1178.2 45.84 Q1178.12 39.7232 1174.75 36.0774 Q1171.43 32.4315 1165.92 32.4315 Q1159.69 32.4315 1155.92 35.9558 Q1152.19 39.4801 1151.62 45.8805 L1178.2 45.84 Z\" fill=\"#000000\" fill-rule=\"evenodd\" fill-opacity=\"1\" /><path clip-path=\"url(#clip710)\" d=\"M1224.18 34.1734 Q1222.92 33.4443 1221.42 33.1202 Q1219.96 32.7556 1218.18 32.7556 Q1211.86 32.7556 1208.46 36.8875 Q1205.1 40.9789 1205.1 48.6757 L1205.1 72.576 L1197.6 72.576 L1197.6 27.2059 L1205.1 27.2059 L1205.1 34.2544 Q1207.45 30.1225 1211.21 28.1376 Q1214.98 26.1121 1220.37 26.1121 Q1221.14 26.1121 1222.07 26.2337 Q1223 26.3147 1224.14 26.5172 L1224.18 34.1734 Z\" fill=\"#000000\" fill-rule=\"evenodd\" fill-opacity=\"1\" /><path clip-path=\"url(#clip710)\" d=\"M1260.39 49.3643 Q1260.39 41.2625 1257.03 36.8065 Q1253.71 32.3505 1247.67 32.3505 Q1241.68 32.3505 1238.31 36.8065 Q1234.99 41.2625 1234.99 49.3643 Q1234.99 57.4256 1238.31 61.8816 Q1241.68 66.3376 1247.67 66.3376 Q1253.71 66.3376 1257.03 61.8816 Q1260.39 57.4256 1260.39 49.3643 M1267.84 66.9452 Q1267.84 78.5308 1262.7 84.1616 Q1257.56 89.8329 1246.94 89.8329 Q1243.01 89.8329 1239.53 89.2252 Q1236.05 88.6581 1232.76 87.4428 L1232.76 80.1917 Q1236.05 81.9741 1239.25 82.8248 Q1242.45 83.6755 1245.77 83.6755 Q1253.1 83.6755 1256.75 79.8271 Q1260.39 76.0193 1260.39 68.282 L1260.39 64.5957 Q1258.08 68.6061 1254.48 70.5911 Q1250.87 72.576 1245.85 72.576 Q1237.5 72.576 1232.4 66.2161 Q1227.3 59.8562 1227.3 49.3643 Q1227.3 38.832 1232.4 32.472 Q1237.5 26.1121 1245.85 26.1121 Q1250.87 26.1121 1254.48 28.0971 Q1258.08 30.082 1260.39 34.0924 L1260.39 27.2059 L1267.84 27.2059 L1267.84 66.9452 Z\" fill=\"#000000\" fill-rule=\"evenodd\" fill-opacity=\"1\" /><path clip-path=\"url(#clip710)\" d=\"M1322.01 48.0275 L1322.01 51.6733 L1287.73 51.6733 Q1288.22 59.3701 1292.35 63.421 Q1296.53 67.4314 1303.94 67.4314 Q1308.23 67.4314 1312.24 66.3781 Q1316.29 65.3249 1320.26 63.2184 L1320.26 70.267 Q1316.25 71.9684 1312.04 72.8596 Q1307.83 73.7508 1303.49 73.7508 Q1292.64 73.7508 1286.28 67.4314 Q1279.96 61.1119 1279.96 50.3365 Q1279.96 39.1965 1285.95 32.6746 Q1291.99 26.1121 1302.2 26.1121 Q1311.35 26.1121 1316.66 32.0264 Q1322.01 37.9003 1322.01 48.0275 M1314.55 45.84 Q1314.47 39.7232 1311.11 36.0774 Q1307.79 32.4315 1302.28 32.4315 Q1296.04 32.4315 1292.27 35.9558 Q1288.54 39.4801 1287.98 45.8805 L1314.55 45.84 Z\" fill=\"#000000\" fill-rule=\"evenodd\" fill-opacity=\"1\" /><path clip-path=\"url(#clip710)\" d=\"M1371.95 45.1919 L1371.95 72.576 L1364.5 72.576 L1364.5 45.4349 Q1364.5 38.994 1361.99 35.7938 Q1359.48 32.5936 1354.45 32.5936 Q1348.42 32.5936 1344.93 36.4419 Q1341.45 40.2903 1341.45 46.9338 L1341.45 72.576 L1333.96 72.576 L1333.96 27.2059 L1341.45 27.2059 L1341.45 34.2544 Q1344.12 30.163 1347.73 28.1376 Q1351.37 26.1121 1356.11 26.1121 Q1363.93 26.1121 1367.94 30.9732 Q1371.95 35.7938 1371.95 45.1919 Z\" fill=\"#000000\" fill-rule=\"evenodd\" fill-opacity=\"1\" /><path clip-path=\"url(#clip710)\" d=\"M1419.47 28.9478 L1419.47 35.9153 Q1416.31 34.1734 1413.11 33.3227 Q1409.95 32.4315 1406.71 32.4315 Q1399.46 32.4315 1395.45 37.0496 Q1391.44 41.6271 1391.44 49.9314 Q1391.44 58.2358 1395.45 62.8538 Q1399.46 67.4314 1406.71 67.4314 Q1409.95 67.4314 1413.11 66.5807 Q1416.31 65.6895 1419.47 63.9476 L1419.47 70.8341 Q1416.35 72.2924 1412.99 73.0216 Q1409.67 73.7508 1405.9 73.7508 Q1395.65 73.7508 1389.61 67.3098 Q1383.58 60.8689 1383.58 49.9314 Q1383.58 38.832 1389.66 32.472 Q1395.77 26.1121 1406.39 26.1121 Q1409.83 26.1121 1413.11 26.8413 Q1416.39 27.5299 1419.47 28.9478 Z\" fill=\"#000000\" fill-rule=\"evenodd\" fill-opacity=\"1\" /><path clip-path=\"url(#clip710)\" d=\"M1471.24 48.0275 L1471.24 51.6733 L1436.97 51.6733 Q1437.46 59.3701 1441.59 63.421 Q1445.76 67.4314 1453.17 67.4314 Q1457.47 67.4314 1461.48 66.3781 Q1465.53 65.3249 1469.5 63.2184 L1469.5 70.267 Q1465.49 71.9684 1461.28 72.8596 Q1457.06 73.7508 1452.73 73.7508 Q1441.87 73.7508 1435.51 67.4314 Q1429.19 61.1119 1429.19 50.3365 Q1429.19 39.1965 1435.19 32.6746 Q1441.22 26.1121 1451.43 26.1121 Q1460.59 26.1121 1465.89 32.0264 Q1471.24 37.9003 1471.24 48.0275 M1463.79 45.84 Q1463.71 39.7232 1460.34 36.0774 Q1457.02 32.4315 1451.51 32.4315 Q1445.27 32.4315 1441.51 35.9558 Q1437.78 39.4801 1437.21 45.8805 L1463.79 45.84 Z\" fill=\"#000000\" fill-rule=\"evenodd\" fill-opacity=\"1\" /><path clip-path=\"url(#clip710)\" d=\"M1547.56 45.1919 L1547.56 72.576 L1540.11 72.576 L1540.11 45.4349 Q1540.11 38.994 1537.59 35.7938 Q1535.08 32.5936 1530.06 32.5936 Q1524.02 32.5936 1520.54 36.4419 Q1517.06 40.2903 1517.06 46.9338 L1517.06 72.576 L1509.56 72.576 L1509.56 9.54393 L1517.06 9.54393 L1517.06 34.2544 Q1519.73 30.163 1523.34 28.1376 Q1526.98 26.1121 1531.72 26.1121 Q1539.54 26.1121 1543.55 30.9732 Q1547.56 35.7938 1547.56 45.1919 Z\" fill=\"#000000\" fill-rule=\"evenodd\" fill-opacity=\"1\" /><path clip-path=\"url(#clip710)\" d=\"M1562.43 27.2059 L1569.88 27.2059 L1569.88 72.576 L1562.43 72.576 L1562.43 27.2059 M1562.43 9.54393 L1569.88 9.54393 L1569.88 18.9825 L1562.43 18.9825 L1562.43 9.54393 Z\" fill=\"#000000\" fill-rule=\"evenodd\" fill-opacity=\"1\" /><path clip-path=\"url(#clip710)\" d=\"M1614.4 28.5427 L1614.4 35.5912 Q1611.24 33.9709 1607.84 33.1607 Q1604.43 32.3505 1600.79 32.3505 Q1595.24 32.3505 1592.44 34.0519 Q1589.69 35.7533 1589.69 39.156 Q1589.69 41.7486 1591.67 43.2475 Q1593.66 44.7058 1599.65 46.0426 L1602.21 46.6097 Q1610.15 48.3111 1613.47 51.4303 Q1616.83 54.509 1616.83 60.0587 Q1616.83 66.3781 1611.81 70.0644 Q1606.82 73.7508 1598.07 73.7508 Q1594.43 73.7508 1590.46 73.0216 Q1586.53 72.3329 1582.15 70.9151 L1582.15 63.2184 Q1586.29 65.3654 1590.3 66.4591 Q1594.31 67.5124 1598.24 67.5124 Q1603.5 67.5124 1606.34 65.73 Q1609.17 63.9071 1609.17 60.6258 Q1609.17 57.5877 1607.11 55.9673 Q1605.08 54.3469 1598.16 52.8481 L1595.56 52.2405 Q1588.64 50.7821 1585.56 47.7845 Q1582.48 44.7463 1582.48 39.4801 Q1582.48 33.0797 1587.02 29.5959 Q1591.55 26.1121 1599.9 26.1121 Q1604.03 26.1121 1607.68 26.7198 Q1611.32 27.3274 1614.4 28.5427 Z\" fill=\"#000000\" fill-rule=\"evenodd\" fill-opacity=\"1\" /><path clip-path=\"url(#clip710)\" d=\"M1636.07 14.324 L1636.07 27.2059 L1651.42 27.2059 L1651.42 32.9987 L1636.07 32.9987 L1636.07 57.6282 Q1636.07 63.1779 1637.57 64.7578 Q1639.11 66.3376 1643.77 66.3376 L1651.42 66.3376 L1651.42 72.576 L1643.77 72.576 Q1635.14 72.576 1631.86 69.3758 Q1628.58 66.1351 1628.58 57.6282 L1628.58 32.9987 L1623.11 32.9987 L1623.11 27.2059 L1628.58 27.2059 L1628.58 14.324 L1636.07 14.324 Z\" fill=\"#000000\" fill-rule=\"evenodd\" fill-opacity=\"1\" /><path clip-path=\"url(#clip710)\" d=\"M1678.81 32.4315 Q1672.81 32.4315 1669.33 37.1306 Q1665.85 41.7891 1665.85 49.9314 Q1665.85 58.0738 1669.29 62.7728 Q1672.77 67.4314 1678.81 67.4314 Q1684.76 67.4314 1688.25 62.7323 Q1691.73 58.0333 1691.73 49.9314 Q1691.73 41.8701 1688.25 37.1711 Q1684.76 32.4315 1678.81 32.4315 M1678.81 26.1121 Q1688.53 26.1121 1694.08 32.4315 Q1699.63 38.7509 1699.63 49.9314 Q1699.63 61.0714 1694.08 67.4314 Q1688.53 73.7508 1678.81 73.7508 Q1669.05 73.7508 1663.5 67.4314 Q1657.99 61.0714 1657.99 49.9314 Q1657.99 38.7509 1663.5 32.4315 Q1669.05 26.1121 1678.81 26.1121 Z\" fill=\"#000000\" fill-rule=\"evenodd\" fill-opacity=\"1\" /><path clip-path=\"url(#clip710)\" d=\"M1738.28 34.1734 Q1737.02 33.4443 1735.52 33.1202 Q1734.06 32.7556 1732.28 32.7556 Q1725.96 32.7556 1722.56 36.8875 Q1719.2 40.9789 1719.2 48.6757 L1719.2 72.576 L1711.7 72.576 L1711.7 27.2059 L1719.2 27.2059 L1719.2 34.2544 Q1721.55 30.1225 1725.31 28.1376 Q1729.08 26.1121 1734.47 26.1121 Q1735.24 26.1121 1736.17 26.2337 Q1737.1 26.3147 1738.24 26.5172 L1738.28 34.1734 Z\" fill=\"#000000\" fill-rule=\"evenodd\" fill-opacity=\"1\" /><path clip-path=\"url(#clip710)\" d=\"M1764.97 76.7889 Q1761.81 84.8907 1758.81 87.3618 Q1755.82 89.8329 1750.79 89.8329 L1744.84 89.8329 L1744.84 83.5945 L1749.21 83.5945 Q1752.29 83.5945 1753.99 82.1361 Q1755.7 80.6778 1757.76 75.2496 L1759.1 71.8468 L1740.75 27.2059 L1748.65 27.2059 L1762.82 62.6918 L1777 27.2059 L1784.9 27.2059 L1764.97 76.7889 Z\" fill=\"#000000\" fill-rule=\"evenodd\" fill-opacity=\"1\" /><polyline clip-path=\"url(#clip712)\" style=\"stroke:#009af9; stroke-linecap:butt; stroke-linejoin:round; stroke-width:4; stroke-opacity:1; fill:none\" points=\"\n",
       "  421.711,162.047 488.668,185.615 555.626,465.394 622.583,744.809 689.54,839.105 756.497,903.427 823.454,965.92 890.411,1019.34 957.369,1068.95 1024.33,1101.34 \n",
       "  1091.28,1134.78 1158.24,1164.26 1225.2,1205.25 1292.15,1243.68 1359.11,1277.31 1426.07,1300.39 1493.03,1308.21 1559.98,1318.5 1626.94,1329.8 1693.9,1337.94 \n",
       "  1760.85,1354.15 1827.81,1365.19 1894.77,1377.21 1961.73,1389.18 2028.68,1400.01 2095.64,1411.64 2162.6,1424.56 2229.55,1427.51 2296.51,1447.87 \n",
       "  \"/>\n",
       "<path clip-path=\"url(#clip710)\" d=\"\n",
       "M1798.83 289.865 L2286.51 289.865 L2286.51 168.905 L1798.83 168.905  Z\n",
       "  \" fill=\"#ffffff\" fill-rule=\"evenodd\" fill-opacity=\"1\"/>\n",
       "<polyline clip-path=\"url(#clip710)\" style=\"stroke:#000000; stroke-linecap:butt; stroke-linejoin:round; stroke-width:4; stroke-opacity:1; fill:none\" points=\"\n",
       "  1798.83,289.865 2286.51,289.865 2286.51,168.905 1798.83,168.905 1798.83,289.865 \n",
       "  \"/>\n",
       "<polyline clip-path=\"url(#clip710)\" style=\"stroke:#009af9; stroke-linecap:butt; stroke-linejoin:round; stroke-width:4; stroke-opacity:1; fill:none\" points=\"\n",
       "  1820.91,229.385 1953.4,229.385 \n",
       "  \"/>\n",
       "<path clip-path=\"url(#clip710)\" d=\"M1995.99 221.734 L1995.99 225.716 Q1994.18 224.72 1992.35 224.234 Q1990.55 223.725 1988.69 223.725 Q1984.55 223.725 1982.26 226.364 Q1979.97 228.98 1979.97 233.725 Q1979.97 238.47 1982.26 241.109 Q1984.55 243.725 1988.69 243.725 Q1990.55 243.725 1992.35 243.239 Q1994.18 242.729 1995.99 241.734 L1995.99 245.669 Q1994.2 246.503 1992.28 246.919 Q1990.38 247.336 1988.23 247.336 Q1982.38 247.336 1978.93 243.655 Q1975.48 239.975 1975.48 233.725 Q1975.48 227.382 1978.95 223.748 Q1982.44 220.114 1988.51 220.114 Q1990.48 220.114 1992.35 220.531 Q1994.23 220.924 1995.99 221.734 Z\" fill=\"#000000\" fill-rule=\"evenodd\" fill-opacity=\"1\" /><path clip-path=\"url(#clip710)\" d=\"M2013.44 223.725 Q2010.01 223.725 2008.02 226.41 Q2006.03 229.072 2006.03 233.725 Q2006.03 238.378 2008 241.063 Q2009.99 243.725 2013.44 243.725 Q2016.84 243.725 2018.83 241.04 Q2020.82 238.355 2020.82 233.725 Q2020.82 229.118 2018.83 226.433 Q2016.84 223.725 2013.44 223.725 M2013.44 220.114 Q2019 220.114 2022.17 223.725 Q2025.34 227.336 2025.34 233.725 Q2025.34 240.091 2022.17 243.725 Q2019 247.336 2013.44 247.336 Q2007.86 247.336 2004.69 243.725 Q2001.54 240.091 2001.54 233.725 Q2001.54 227.336 2004.69 223.725 Q2007.86 220.114 2013.44 220.114 Z\" fill=\"#000000\" fill-rule=\"evenodd\" fill-opacity=\"1\" /><path clip-path=\"url(#clip710)\" d=\"M2052.58 225.716 Q2054.18 222.845 2056.4 221.48 Q2058.63 220.114 2061.63 220.114 Q2065.69 220.114 2067.88 222.961 Q2070.08 225.785 2070.08 231.017 L2070.08 246.665 L2065.8 246.665 L2065.8 231.155 Q2065.8 227.429 2064.48 225.623 Q2063.16 223.818 2060.45 223.818 Q2057.14 223.818 2055.22 226.017 Q2053.3 228.216 2053.3 232.012 L2053.3 246.665 L2049.02 246.665 L2049.02 231.155 Q2049.02 227.405 2047.7 225.623 Q2046.38 223.818 2043.63 223.818 Q2040.36 223.818 2038.44 226.04 Q2036.52 228.239 2036.52 232.012 L2036.52 246.665 L2032.24 246.665 L2032.24 220.739 L2036.52 220.739 L2036.52 224.767 Q2037.98 222.382 2040.01 221.248 Q2042.05 220.114 2044.85 220.114 Q2047.68 220.114 2049.64 221.549 Q2051.63 222.984 2052.58 225.716 Z\" fill=\"#000000\" fill-rule=\"evenodd\" fill-opacity=\"1\" /><path clip-path=\"url(#clip710)\" d=\"M2082.7 242.776 L2082.7 256.526 L2078.42 256.526 L2078.42 220.739 L2082.7 220.739 L2082.7 224.674 Q2084.04 222.359 2086.08 221.248 Q2088.14 220.114 2090.99 220.114 Q2095.71 220.114 2098.65 223.864 Q2101.61 227.614 2101.61 233.725 Q2101.61 239.836 2098.65 243.586 Q2095.71 247.336 2090.99 247.336 Q2088.14 247.336 2086.08 246.225 Q2084.04 245.091 2082.7 242.776 M2097.19 233.725 Q2097.19 229.026 2095.25 226.364 Q2093.32 223.679 2089.94 223.679 Q2086.56 223.679 2084.62 226.364 Q2082.7 229.026 2082.7 233.725 Q2082.7 238.424 2084.62 241.109 Q2086.56 243.771 2089.94 243.771 Q2093.32 243.771 2095.25 241.109 Q2097.19 238.424 2097.19 233.725 Z\" fill=\"#000000\" fill-rule=\"evenodd\" fill-opacity=\"1\" /><path clip-path=\"url(#clip710)\" d=\"M2108.67 210.646 L2112.93 210.646 L2112.93 246.665 L2108.67 246.665 L2108.67 210.646 Z\" fill=\"#000000\" fill-rule=\"evenodd\" fill-opacity=\"1\" /><path clip-path=\"url(#clip710)\" d=\"M2121.84 220.739 L2126.1 220.739 L2126.1 246.665 L2121.84 246.665 L2121.84 220.739 M2121.84 210.646 L2126.1 210.646 L2126.1 216.04 L2121.84 216.04 L2121.84 210.646 Z\" fill=\"#000000\" fill-rule=\"evenodd\" fill-opacity=\"1\" /><path clip-path=\"url(#clip710)\" d=\"M2146.8 233.632 Q2141.63 233.632 2139.64 234.813 Q2137.65 235.993 2137.65 238.841 Q2137.65 241.109 2139.13 242.452 Q2140.64 243.771 2143.21 243.771 Q2146.75 243.771 2148.88 241.271 Q2151.03 238.748 2151.03 234.581 L2151.03 233.632 L2146.8 233.632 M2155.29 231.873 L2155.29 246.665 L2151.03 246.665 L2151.03 242.729 Q2149.57 245.091 2147.4 246.225 Q2145.22 247.336 2142.07 247.336 Q2138.09 247.336 2135.73 245.114 Q2133.39 242.868 2133.39 239.118 Q2133.39 234.743 2136.31 232.521 Q2139.25 230.299 2145.06 230.299 L2151.03 230.299 L2151.03 229.882 Q2151.03 226.943 2149.09 225.345 Q2147.17 223.725 2143.67 223.725 Q2141.45 223.725 2139.34 224.257 Q2137.24 224.79 2135.29 225.855 L2135.29 221.919 Q2137.63 221.017 2139.83 220.577 Q2142.03 220.114 2144.11 220.114 Q2149.74 220.114 2152.51 223.031 Q2155.29 225.947 2155.29 231.873 Z\" fill=\"#000000\" fill-rule=\"evenodd\" fill-opacity=\"1\" /><path clip-path=\"url(#clip710)\" d=\"M2185.62 231.017 L2185.62 246.665 L2181.36 246.665 L2181.36 231.155 Q2181.36 227.475 2179.92 225.646 Q2178.49 223.818 2175.62 223.818 Q2172.17 223.818 2170.18 226.017 Q2168.18 228.216 2168.18 232.012 L2168.18 246.665 L2163.9 246.665 L2163.9 220.739 L2168.18 220.739 L2168.18 224.767 Q2169.71 222.429 2171.77 221.271 Q2173.86 220.114 2176.56 220.114 Q2181.03 220.114 2183.32 222.892 Q2185.62 225.646 2185.62 231.017 Z\" fill=\"#000000\" fill-rule=\"evenodd\" fill-opacity=\"1\" /><path clip-path=\"url(#clip710)\" d=\"M2212.77 221.734 L2212.77 225.716 Q2210.96 224.72 2209.13 224.234 Q2207.33 223.725 2205.48 223.725 Q2201.33 223.725 2199.04 226.364 Q2196.75 228.98 2196.75 233.725 Q2196.75 238.47 2199.04 241.109 Q2201.33 243.725 2205.48 243.725 Q2207.33 243.725 2209.13 243.239 Q2210.96 242.729 2212.77 241.734 L2212.77 245.669 Q2210.99 246.503 2209.06 246.919 Q2207.17 247.336 2205.01 247.336 Q2199.16 247.336 2195.71 243.655 Q2192.26 239.975 2192.26 233.725 Q2192.26 227.382 2195.73 223.748 Q2199.23 220.114 2205.29 220.114 Q2207.26 220.114 2209.13 220.531 Q2211.01 220.924 2212.77 221.734 Z\" fill=\"#000000\" fill-rule=\"evenodd\" fill-opacity=\"1\" /><path clip-path=\"url(#clip710)\" d=\"M2242.35 232.637 L2242.35 234.72 L2222.77 234.72 Q2223.05 239.118 2225.41 241.433 Q2227.79 243.725 2232.03 243.725 Q2234.48 243.725 2236.77 243.123 Q2239.09 242.521 2241.36 241.317 L2241.36 245.345 Q2239.06 246.317 2236.66 246.827 Q2234.25 247.336 2231.77 247.336 Q2225.57 247.336 2221.93 243.725 Q2218.32 240.114 2218.32 233.956 Q2218.32 227.591 2221.75 223.864 Q2225.2 220.114 2231.03 220.114 Q2236.26 220.114 2239.3 223.493 Q2242.35 226.85 2242.35 232.637 M2238.09 231.387 Q2238.05 227.892 2236.12 225.808 Q2234.23 223.725 2231.08 223.725 Q2227.51 223.725 2225.36 225.739 Q2223.23 227.753 2222.91 231.41 L2238.09 231.387 Z\" fill=\"#000000\" fill-rule=\"evenodd\" fill-opacity=\"1\" /></svg>\n"
      ]
     },
     "execution_count": 17,
     "metadata": {},
     "output_type": "execute_result"
    }
   ],
   "source": [
    "using Plots\n",
    "gr()\n",
    "plot(iter,J,label=\"compliance\")\n",
    "plot!(title=\"Convergence history\")"
   ]
  },
  {
   "cell_type": "code",
   "execution_count": null,
   "id": "19fe70c0",
   "metadata": {},
   "outputs": [],
   "source": []
  }
 ],
 "metadata": {
  "kernelspec": {
   "display_name": "Julia 1.6.0",
   "language": "julia",
   "name": "julia-1.6"
  },
  "language_info": {
   "file_extension": ".jl",
   "mimetype": "application/julia",
   "name": "julia",
   "version": "1.6.0"
  }
 },
 "nbformat": 4,
 "nbformat_minor": 5
}
